{
  "cells": [
    {
      "cell_type": "markdown",
      "metadata": {
        "id": "IUgsWhfE_7gf"
      },
      "source": [
        "### Assignment 2\n",
        "Kruthi : PES1UG20CS220\n",
        "Anshula Aithal : PES1UG20CS064\n",
        "Attili Krishna Kireeti : PES1UG20CS090\n",
        "\n"
      ]
    },
    {
      "cell_type": "code",
      "execution_count": null,
      "metadata": {
        "colab": {
          "base_uri": "https://localhost:8080/"
        },
        "id": "347UuRKt812i",
        "outputId": "e08fe84a-1662-4373-943c-0ea6471ec5c5"
      },
      "outputs": [
        {
          "output_type": "stream",
          "name": "stdout",
          "text": [
            "Looking in indexes: https://pypi.org/simple, https://us-python.pkg.dev/colab-wheels/public/simple/\n",
            "Requirement already satisfied: gensim in /usr/local/lib/python3.10/dist-packages (4.3.1)\n",
            "Requirement already satisfied: numpy>=1.18.5 in /usr/local/lib/python3.10/dist-packages (from gensim) (1.22.4)\n",
            "Requirement already satisfied: smart-open>=1.8.1 in /usr/local/lib/python3.10/dist-packages (from gensim) (6.3.0)\n",
            "Requirement already satisfied: scipy>=1.7.0 in /usr/local/lib/python3.10/dist-packages (from gensim) (1.10.1)\n",
            "Looking in indexes: https://pypi.org/simple, https://us-python.pkg.dev/colab-wheels/public/simple/\n",
            "Collecting surprise\n",
            "  Downloading surprise-0.1-py2.py3-none-any.whl (1.8 kB)\n",
            "Collecting scikit-surprise\n",
            "  Downloading scikit-surprise-1.1.3.tar.gz (771 kB)\n",
            "\u001b[2K     \u001b[90m━━━━━━━━━━━━━━━━━━━━━━━━━━━━━━━━━━━━━━\u001b[0m \u001b[32m772.0/772.0 kB\u001b[0m \u001b[31m11.0 MB/s\u001b[0m eta \u001b[36m0:00:00\u001b[0m\n",
            "\u001b[?25h  Preparing metadata (setup.py) ... \u001b[?25l\u001b[?25hdone\n",
            "Requirement already satisfied: joblib>=1.0.0 in /usr/local/lib/python3.10/dist-packages (from scikit-surprise->surprise) (1.2.0)\n",
            "Requirement already satisfied: numpy>=1.17.3 in /usr/local/lib/python3.10/dist-packages (from scikit-surprise->surprise) (1.22.4)\n",
            "Requirement already satisfied: scipy>=1.3.2 in /usr/local/lib/python3.10/dist-packages (from scikit-surprise->surprise) (1.10.1)\n",
            "Building wheels for collected packages: scikit-surprise\n",
            "  Building wheel for scikit-surprise (setup.py) ... \u001b[?25l\u001b[?25hdone\n",
            "  Created wheel for scikit-surprise: filename=scikit_surprise-1.1.3-cp310-cp310-linux_x86_64.whl size=3095428 sha256=7e184f756dd262b0d8e71db63c6b183b023e2bc65b62dce281318e0b9ea7fc8b\n",
            "  Stored in directory: /root/.cache/pip/wheels/a5/ca/a8/4e28def53797fdc4363ca4af740db15a9c2f1595ebc51fb445\n",
            "Successfully built scikit-surprise\n",
            "Installing collected packages: scikit-surprise, surprise\n",
            "Successfully installed scikit-surprise-1.1.3 surprise-0.1\n"
          ]
        }
      ],
      "source": [
        "!pip install gensim\n",
        "!pip install surprise"
      ]
    },
    {
      "cell_type": "code",
      "execution_count": null,
      "metadata": {
        "id": "gCu2qd6O62Oc"
      },
      "outputs": [],
      "source": [
        "import pandas as pd\n",
        "import seaborn as sns\n",
        "import matplotlib\n",
        "import numpy as np\n",
        "import surprise\n",
        "from surprise import Dataset, Reader\n",
        "from surprise import KNNBasic\n",
        "from surprise.model_selection import train_test_split\n",
        "from surprise import accuracy\n",
        "from scipy.stats import gamma\n",
        "from wordcloud import WordCloud\n",
        "import matplotlib.pyplot as plt\n",
        "from nltk.sentiment.vader import SentimentIntensityAnalyzer\n",
        "import nltk\n",
        "from nltk.corpus import stopwords\n",
        "from nltk.tokenize import word_tokenize\n",
        "from nltk.stem.wordnet import WordNetLemmatizer\n",
        "import gensim\n",
        "from gensim.utils import simple_preprocess\n",
        "from gensim.models.ldamodel import LdaModel\n",
        "from gensim.corpora.dictionary import Dictionary\n",
        "from math import sqrt"
      ]
    },
    {
      "cell_type": "code",
      "execution_count": null,
      "metadata": {
        "colab": {
          "base_uri": "https://localhost:8080/"
        },
        "id": "k2iFGBC93X_g",
        "outputId": "178d87a3-3c5e-4ce3-e09d-49f5fc7d2183"
      },
      "outputs": [
        {
          "output_type": "stream",
          "name": "stderr",
          "text": [
            "[nltk_data] Downloading package vader_lexicon to /root/nltk_data...\n"
          ]
        },
        {
          "output_type": "execute_result",
          "data": {
            "text/plain": [
              "True"
            ]
          },
          "metadata": {},
          "execution_count": 12
        }
      ],
      "source": [
        "nltk.download('vader_lexicon')"
      ]
    },
    {
      "cell_type": "code",
      "execution_count": null,
      "metadata": {
        "colab": {
          "base_uri": "https://localhost:8080/"
        },
        "id": "rhon--g366zU",
        "outputId": "8851ce6d-1e99-44eb-8646-a7c8df5c2c0b"
      },
      "outputs": [
        {
          "output_type": "stream",
          "name": "stderr",
          "text": [
            "<ipython-input-13-8050ec3252a9>:1: FutureWarning: The error_bad_lines argument has been deprecated and will be removed in a future version. Use on_bad_lines in the future.\n",
            "\n",
            "\n",
            "  df = pd.read_csv(\"https://s3.amazonaws.com/amazon-reviews-pds/tsv/amazon_reviews_us_Grocery_v1_00.tsv.gz\", delimiter='\\t', error_bad_lines=False)\n",
            "Skipping line 1925: expected 15 fields, saw 22\n",
            "Skipping line 1977: expected 15 fields, saw 22\n",
            "Skipping line 35265: expected 15 fields, saw 22\n",
            "Skipping line 53357: expected 15 fields, saw 22\n",
            "\n",
            "Skipping line 68361: expected 15 fields, saw 22\n",
            "Skipping line 70922: expected 15 fields, saw 22\n",
            "Skipping line 73503: expected 15 fields, saw 22\n",
            "Skipping line 85612: expected 15 fields, saw 22\n",
            "Skipping line 102322: expected 15 fields, saw 22\n",
            "\n",
            "Skipping line 158341: expected 15 fields, saw 22\n",
            "Skipping line 162872: expected 15 fields, saw 22\n",
            "Skipping line 195697: expected 15 fields, saw 22\n",
            "\n",
            "Skipping line 202916: expected 15 fields, saw 22\n",
            "Skipping line 203949: expected 15 fields, saw 22\n",
            "Skipping line 250853: expected 15 fields, saw 22\n",
            "\n",
            "Skipping line 265820: expected 15 fields, saw 22\n",
            "Skipping line 304569: expected 15 fields, saw 22\n",
            "Skipping line 313136: expected 15 fields, saw 22\n",
            "Skipping line 313160: expected 15 fields, saw 22\n",
            "Skipping line 316345: expected 15 fields, saw 22\n",
            "Skipping line 320940: expected 15 fields, saw 22\n",
            "Skipping line 327593: expected 15 fields, saw 22\n",
            "\n",
            "Skipping line 333518: expected 15 fields, saw 22\n",
            "Skipping line 345213: expected 15 fields, saw 22\n",
            "Skipping line 346177: expected 15 fields, saw 22\n",
            "Skipping line 362905: expected 15 fields, saw 22\n",
            "Skipping line 378290: expected 15 fields, saw 22\n",
            "Skipping line 389110: expected 15 fields, saw 22\n",
            "\n",
            "Skipping line 422928: expected 15 fields, saw 22\n",
            "Skipping line 424436: expected 15 fields, saw 22\n",
            "Skipping line 428873: expected 15 fields, saw 22\n",
            "Skipping line 434163: expected 15 fields, saw 22\n",
            "Skipping line 449737: expected 15 fields, saw 22\n",
            "Skipping line 453302: expected 15 fields, saw 22\n",
            "\n",
            "Skipping line 459205: expected 15 fields, saw 22\n",
            "Skipping line 464340: expected 15 fields, saw 22\n",
            "Skipping line 514160: expected 15 fields, saw 22\n",
            "Skipping line 523695: expected 15 fields, saw 22\n",
            "\n",
            "Skipping line 560739: expected 15 fields, saw 22\n",
            "Skipping line 579800: expected 15 fields, saw 22\n",
            "\n",
            "Skipping line 596983: expected 15 fields, saw 22\n",
            "Skipping line 599808: expected 15 fields, saw 22\n",
            "Skipping line 622799: expected 15 fields, saw 22\n",
            "Skipping line 639148: expected 15 fields, saw 22\n",
            "\n",
            "Skipping line 677643: expected 15 fields, saw 22\n",
            "Skipping line 689626: expected 15 fields, saw 22\n",
            "\n",
            "Skipping line 748449: expected 15 fields, saw 22\n",
            "Skipping line 764569: expected 15 fields, saw 22\n",
            "Skipping line 772447: expected 15 fields, saw 22\n",
            "Skipping line 773999: expected 15 fields, saw 22\n",
            "Skipping line 774131: expected 15 fields, saw 22\n",
            "Skipping line 786164: expected 15 fields, saw 22\n",
            "\n",
            "Skipping line 787274: expected 15 fields, saw 22\n",
            "Skipping line 815676: expected 15 fields, saw 22\n",
            "\n",
            "Skipping line 874843: expected 15 fields, saw 22\n",
            "Skipping line 904685: expected 15 fields, saw 22\n",
            "Skipping line 915432: expected 15 fields, saw 22\n",
            "\n",
            "Skipping line 936339: expected 15 fields, saw 22\n",
            "Skipping line 944830: expected 15 fields, saw 22\n",
            "Skipping line 963551: expected 15 fields, saw 22\n",
            "Skipping line 966835: expected 15 fields, saw 22\n",
            "Skipping line 978466: expected 15 fields, saw 22\n",
            "\n",
            "Skipping line 1005807: expected 15 fields, saw 22\n",
            "Skipping line 1005871: expected 15 fields, saw 22\n",
            "\n",
            "Skipping line 1086545: expected 15 fields, saw 22\n",
            "Skipping line 1104208: expected 15 fields, saw 22\n",
            "\n",
            "Skipping line 1124945: expected 15 fields, saw 22\n",
            "Skipping line 1151568: expected 15 fields, saw 22\n",
            "\n",
            "Skipping line 1266845: expected 15 fields, saw 22\n",
            "\n",
            "Skipping line 1334061: expected 15 fields, saw 22\n",
            "\n",
            "Skipping line 1379263: expected 15 fields, saw 22\n",
            "\n",
            "<ipython-input-13-8050ec3252a9>:1: DtypeWarning: Columns (7) have mixed types. Specify dtype option on import or set low_memory=False.\n",
            "  df = pd.read_csv(\"https://s3.amazonaws.com/amazon-reviews-pds/tsv/amazon_reviews_us_Grocery_v1_00.tsv.gz\", delimiter='\\t', error_bad_lines=False)\n"
          ]
        }
      ],
      "source": [
        "df = pd.read_csv(\"https://s3.amazonaws.com/amazon-reviews-pds/tsv/amazon_reviews_us_Grocery_v1_00.tsv.gz\", delimiter='\\t', error_bad_lines=False)\n",
        "df = df.head(10000)"
      ]
    },
    {
      "cell_type": "markdown",
      "metadata": {
        "id": "rHRzmlho7GUO"
      },
      "source": [
        "#**EDA**"
      ]
    },
    {
      "cell_type": "code",
      "execution_count": null,
      "metadata": {
        "colab": {
          "base_uri": "https://localhost:8080/",
          "height": 565
        },
        "id": "UdSUwTEu7Kb-",
        "outputId": "cfe7b254-e5b1-4b6b-8ee0-ce80d27edc22"
      },
      "outputs": [
        {
          "output_type": "execute_result",
          "data": {
            "text/plain": [
              "  marketplace  customer_id       review_id  product_id  product_parent  \\\n",
              "0          US     42521656  R26MV8D0KG6QI6  B000SAQCWC       159713740   \n",
              "1          US     12049833  R1OF8GP57AQ1A0  B00509LVIQ       138680402   \n",
              "2          US       107642  R3VDC1QB6MC4ZZ  B00KHXESLC       252021703   \n",
              "3          US      6042304  R12FA3DCF8F9ER  B000F8JIIC       752728342   \n",
              "4          US     18123821   RTWHVNV6X4CNJ  B004ZWR9RQ       552138758   \n",
              "\n",
              "                                       product_title product_category  \\\n",
              "0  The Cravings Place Chocolate Chunk Cookie Mix,...          Grocery   \n",
              "1            Mauna Loa Macadamias, 11 Ounce Packages          Grocery   \n",
              "2  Organic Matcha Green Tea Powder - 100% Pure Ma...          Grocery   \n",
              "3  15oz Raspberry Lyons Designer Dessert Syrup Sauce          Grocery   \n",
              "4  Stride Spark Kinetic Fruit Sugar Free Gum, 14-...          Grocery   \n",
              "\n",
              "  star_rating  helpful_votes  total_votes vine verified_purchase  \\\n",
              "0           5            0.0          0.0    N                 Y   \n",
              "1           5            0.0          0.0    N                 Y   \n",
              "2           5            0.0          0.0    N                 N   \n",
              "3           5            0.0          0.0    N                 Y   \n",
              "4           5            0.0          0.0    N                 Y   \n",
              "\n",
              "                      review_headline  \\\n",
              "0  Using these for years - love them.   \n",
              "1                           Wonderful   \n",
              "2                          Five Stars   \n",
              "3                          Five Stars   \n",
              "4                          Five Stars   \n",
              "\n",
              "                                         review_body review_date  \n",
              "0  As a family allergic to wheat, dairy, eggs, nu...  2015-08-31  \n",
              "1  My favorite nut.  Creamy, crunchy, salty, and ...  2015-08-31  \n",
              "2  This green tea tastes so good! My girlfriend l...  2015-08-31  \n",
              "3  I love Melissa's brand but this is a great sec...  2015-08-31  \n",
              "4                                               good  2015-08-31  "
            ],
            "text/html": [
              "\n",
              "  <div id=\"df-85632922-fb0f-4a7e-91df-2a0ccbef4170\">\n",
              "    <div class=\"colab-df-container\">\n",
              "      <div>\n",
              "<style scoped>\n",
              "    .dataframe tbody tr th:only-of-type {\n",
              "        vertical-align: middle;\n",
              "    }\n",
              "\n",
              "    .dataframe tbody tr th {\n",
              "        vertical-align: top;\n",
              "    }\n",
              "\n",
              "    .dataframe thead th {\n",
              "        text-align: right;\n",
              "    }\n",
              "</style>\n",
              "<table border=\"1\" class=\"dataframe\">\n",
              "  <thead>\n",
              "    <tr style=\"text-align: right;\">\n",
              "      <th></th>\n",
              "      <th>marketplace</th>\n",
              "      <th>customer_id</th>\n",
              "      <th>review_id</th>\n",
              "      <th>product_id</th>\n",
              "      <th>product_parent</th>\n",
              "      <th>product_title</th>\n",
              "      <th>product_category</th>\n",
              "      <th>star_rating</th>\n",
              "      <th>helpful_votes</th>\n",
              "      <th>total_votes</th>\n",
              "      <th>vine</th>\n",
              "      <th>verified_purchase</th>\n",
              "      <th>review_headline</th>\n",
              "      <th>review_body</th>\n",
              "      <th>review_date</th>\n",
              "    </tr>\n",
              "  </thead>\n",
              "  <tbody>\n",
              "    <tr>\n",
              "      <th>0</th>\n",
              "      <td>US</td>\n",
              "      <td>42521656</td>\n",
              "      <td>R26MV8D0KG6QI6</td>\n",
              "      <td>B000SAQCWC</td>\n",
              "      <td>159713740</td>\n",
              "      <td>The Cravings Place Chocolate Chunk Cookie Mix,...</td>\n",
              "      <td>Grocery</td>\n",
              "      <td>5</td>\n",
              "      <td>0.0</td>\n",
              "      <td>0.0</td>\n",
              "      <td>N</td>\n",
              "      <td>Y</td>\n",
              "      <td>Using these for years - love them.</td>\n",
              "      <td>As a family allergic to wheat, dairy, eggs, nu...</td>\n",
              "      <td>2015-08-31</td>\n",
              "    </tr>\n",
              "    <tr>\n",
              "      <th>1</th>\n",
              "      <td>US</td>\n",
              "      <td>12049833</td>\n",
              "      <td>R1OF8GP57AQ1A0</td>\n",
              "      <td>B00509LVIQ</td>\n",
              "      <td>138680402</td>\n",
              "      <td>Mauna Loa Macadamias, 11 Ounce Packages</td>\n",
              "      <td>Grocery</td>\n",
              "      <td>5</td>\n",
              "      <td>0.0</td>\n",
              "      <td>0.0</td>\n",
              "      <td>N</td>\n",
              "      <td>Y</td>\n",
              "      <td>Wonderful</td>\n",
              "      <td>My favorite nut.  Creamy, crunchy, salty, and ...</td>\n",
              "      <td>2015-08-31</td>\n",
              "    </tr>\n",
              "    <tr>\n",
              "      <th>2</th>\n",
              "      <td>US</td>\n",
              "      <td>107642</td>\n",
              "      <td>R3VDC1QB6MC4ZZ</td>\n",
              "      <td>B00KHXESLC</td>\n",
              "      <td>252021703</td>\n",
              "      <td>Organic Matcha Green Tea Powder - 100% Pure Ma...</td>\n",
              "      <td>Grocery</td>\n",
              "      <td>5</td>\n",
              "      <td>0.0</td>\n",
              "      <td>0.0</td>\n",
              "      <td>N</td>\n",
              "      <td>N</td>\n",
              "      <td>Five Stars</td>\n",
              "      <td>This green tea tastes so good! My girlfriend l...</td>\n",
              "      <td>2015-08-31</td>\n",
              "    </tr>\n",
              "    <tr>\n",
              "      <th>3</th>\n",
              "      <td>US</td>\n",
              "      <td>6042304</td>\n",
              "      <td>R12FA3DCF8F9ER</td>\n",
              "      <td>B000F8JIIC</td>\n",
              "      <td>752728342</td>\n",
              "      <td>15oz Raspberry Lyons Designer Dessert Syrup Sauce</td>\n",
              "      <td>Grocery</td>\n",
              "      <td>5</td>\n",
              "      <td>0.0</td>\n",
              "      <td>0.0</td>\n",
              "      <td>N</td>\n",
              "      <td>Y</td>\n",
              "      <td>Five Stars</td>\n",
              "      <td>I love Melissa's brand but this is a great sec...</td>\n",
              "      <td>2015-08-31</td>\n",
              "    </tr>\n",
              "    <tr>\n",
              "      <th>4</th>\n",
              "      <td>US</td>\n",
              "      <td>18123821</td>\n",
              "      <td>RTWHVNV6X4CNJ</td>\n",
              "      <td>B004ZWR9RQ</td>\n",
              "      <td>552138758</td>\n",
              "      <td>Stride Spark Kinetic Fruit Sugar Free Gum, 14-...</td>\n",
              "      <td>Grocery</td>\n",
              "      <td>5</td>\n",
              "      <td>0.0</td>\n",
              "      <td>0.0</td>\n",
              "      <td>N</td>\n",
              "      <td>Y</td>\n",
              "      <td>Five Stars</td>\n",
              "      <td>good</td>\n",
              "      <td>2015-08-31</td>\n",
              "    </tr>\n",
              "  </tbody>\n",
              "</table>\n",
              "</div>\n",
              "      <button class=\"colab-df-convert\" onclick=\"convertToInteractive('df-85632922-fb0f-4a7e-91df-2a0ccbef4170')\"\n",
              "              title=\"Convert this dataframe to an interactive table.\"\n",
              "              style=\"display:none;\">\n",
              "        \n",
              "  <svg xmlns=\"http://www.w3.org/2000/svg\" height=\"24px\"viewBox=\"0 0 24 24\"\n",
              "       width=\"24px\">\n",
              "    <path d=\"M0 0h24v24H0V0z\" fill=\"none\"/>\n",
              "    <path d=\"M18.56 5.44l.94 2.06.94-2.06 2.06-.94-2.06-.94-.94-2.06-.94 2.06-2.06.94zm-11 1L8.5 8.5l.94-2.06 2.06-.94-2.06-.94L8.5 2.5l-.94 2.06-2.06.94zm10 10l.94 2.06.94-2.06 2.06-.94-2.06-.94-.94-2.06-.94 2.06-2.06.94z\"/><path d=\"M17.41 7.96l-1.37-1.37c-.4-.4-.92-.59-1.43-.59-.52 0-1.04.2-1.43.59L10.3 9.45l-7.72 7.72c-.78.78-.78 2.05 0 2.83L4 21.41c.39.39.9.59 1.41.59.51 0 1.02-.2 1.41-.59l7.78-7.78 2.81-2.81c.8-.78.8-2.07 0-2.86zM5.41 20L4 18.59l7.72-7.72 1.47 1.35L5.41 20z\"/>\n",
              "  </svg>\n",
              "      </button>\n",
              "      \n",
              "  <style>\n",
              "    .colab-df-container {\n",
              "      display:flex;\n",
              "      flex-wrap:wrap;\n",
              "      gap: 12px;\n",
              "    }\n",
              "\n",
              "    .colab-df-convert {\n",
              "      background-color: #E8F0FE;\n",
              "      border: none;\n",
              "      border-radius: 50%;\n",
              "      cursor: pointer;\n",
              "      display: none;\n",
              "      fill: #1967D2;\n",
              "      height: 32px;\n",
              "      padding: 0 0 0 0;\n",
              "      width: 32px;\n",
              "    }\n",
              "\n",
              "    .colab-df-convert:hover {\n",
              "      background-color: #E2EBFA;\n",
              "      box-shadow: 0px 1px 2px rgba(60, 64, 67, 0.3), 0px 1px 3px 1px rgba(60, 64, 67, 0.15);\n",
              "      fill: #174EA6;\n",
              "    }\n",
              "\n",
              "    [theme=dark] .colab-df-convert {\n",
              "      background-color: #3B4455;\n",
              "      fill: #D2E3FC;\n",
              "    }\n",
              "\n",
              "    [theme=dark] .colab-df-convert:hover {\n",
              "      background-color: #434B5C;\n",
              "      box-shadow: 0px 1px 3px 1px rgba(0, 0, 0, 0.15);\n",
              "      filter: drop-shadow(0px 1px 2px rgba(0, 0, 0, 0.3));\n",
              "      fill: #FFFFFF;\n",
              "    }\n",
              "  </style>\n",
              "\n",
              "      <script>\n",
              "        const buttonEl =\n",
              "          document.querySelector('#df-85632922-fb0f-4a7e-91df-2a0ccbef4170 button.colab-df-convert');\n",
              "        buttonEl.style.display =\n",
              "          google.colab.kernel.accessAllowed ? 'block' : 'none';\n",
              "\n",
              "        async function convertToInteractive(key) {\n",
              "          const element = document.querySelector('#df-85632922-fb0f-4a7e-91df-2a0ccbef4170');\n",
              "          const dataTable =\n",
              "            await google.colab.kernel.invokeFunction('convertToInteractive',\n",
              "                                                     [key], {});\n",
              "          if (!dataTable) return;\n",
              "\n",
              "          const docLinkHtml = 'Like what you see? Visit the ' +\n",
              "            '<a target=\"_blank\" href=https://colab.research.google.com/notebooks/data_table.ipynb>data table notebook</a>'\n",
              "            + ' to learn more about interactive tables.';\n",
              "          element.innerHTML = '';\n",
              "          dataTable['output_type'] = 'display_data';\n",
              "          await google.colab.output.renderOutput(dataTable, element);\n",
              "          const docLink = document.createElement('div');\n",
              "          docLink.innerHTML = docLinkHtml;\n",
              "          element.appendChild(docLink);\n",
              "        }\n",
              "      </script>\n",
              "    </div>\n",
              "  </div>\n",
              "  "
            ]
          },
          "metadata": {},
          "execution_count": 14
        }
      ],
      "source": [
        "df.head()"
      ]
    },
    {
      "cell_type": "code",
      "execution_count": null,
      "metadata": {
        "colab": {
          "base_uri": "https://localhost:8080/"
        },
        "id": "thhr7sZh7PAh",
        "outputId": "edd939a2-ff7a-4ac7-caaf-db62df16e2c7"
      },
      "outputs": [
        {
          "output_type": "execute_result",
          "data": {
            "text/plain": [
              "(10000, 15)"
            ]
          },
          "metadata": {},
          "execution_count": 15
        }
      ],
      "source": [
        "df.shape"
      ]
    },
    {
      "cell_type": "code",
      "execution_count": null,
      "metadata": {
        "colab": {
          "base_uri": "https://localhost:8080/"
        },
        "id": "Rb_r27po7Q2y",
        "outputId": "1aa43006-f1c4-411c-e3fc-022408761f03"
      },
      "outputs": [
        {
          "output_type": "execute_result",
          "data": {
            "text/plain": [
              "marketplace           object\n",
              "customer_id            int64\n",
              "review_id             object\n",
              "product_id            object\n",
              "product_parent         int64\n",
              "product_title         object\n",
              "product_category      object\n",
              "star_rating           object\n",
              "helpful_votes        float64\n",
              "total_votes          float64\n",
              "vine                  object\n",
              "verified_purchase     object\n",
              "review_headline       object\n",
              "review_body           object\n",
              "review_date           object\n",
              "dtype: object"
            ]
          },
          "metadata": {},
          "execution_count": 16
        }
      ],
      "source": [
        "df.dtypes"
      ]
    },
    {
      "cell_type": "code",
      "execution_count": null,
      "metadata": {
        "colab": {
          "base_uri": "https://localhost:8080/"
        },
        "id": "lakMW_hV7TBS",
        "outputId": "97d44d48-555c-4598-887a-5afb78967076"
      },
      "outputs": [
        {
          "output_type": "stream",
          "name": "stdout",
          "text": [
            "marketplace          0\n",
            "customer_id          0\n",
            "review_id            0\n",
            "product_id           0\n",
            "product_parent       0\n",
            "product_title        0\n",
            "product_category     0\n",
            "star_rating          0\n",
            "helpful_votes        0\n",
            "total_votes          0\n",
            "vine                 0\n",
            "verified_purchase    0\n",
            "review_headline      0\n",
            "review_body          2\n",
            "review_date          0\n",
            "dtype: int64\n"
          ]
        }
      ],
      "source": [
        "print(df.isna().sum())"
      ]
    },
    {
      "cell_type": "code",
      "execution_count": null,
      "metadata": {
        "colab": {
          "base_uri": "https://localhost:8080/"
        },
        "id": "5lhJbgmc7ZJS",
        "outputId": "fdec4e16-ed6e-43e7-e206-e83ee097d3b7"
      },
      "outputs": [
        {
          "output_type": "stream",
          "name": "stdout",
          "text": [
            "0\n"
          ]
        }
      ],
      "source": [
        "print(df.duplicated().sum())"
      ]
    },
    {
      "cell_type": "code",
      "execution_count": null,
      "metadata": {
        "colab": {
          "base_uri": "https://localhost:8080/"
        },
        "id": "iOd3AnxrRGIK",
        "outputId": "8ced299f-dbf1-4ccb-c76b-88a754f0127e"
      },
      "outputs": [
        {
          "output_type": "execute_result",
          "data": {
            "text/plain": [
              "7918"
            ]
          },
          "metadata": {},
          "execution_count": 19
        }
      ],
      "source": [
        "df['customer_id'].nunique()"
      ]
    },
    {
      "cell_type": "code",
      "execution_count": null,
      "metadata": {
        "colab": {
          "base_uri": "https://localhost:8080/"
        },
        "id": "JUgzYRJ4RR-D",
        "outputId": "fd7527f8-30bc-4460-bfc1-c845f53cf8c6"
      },
      "outputs": [
        {
          "output_type": "execute_result",
          "data": {
            "text/plain": [
              "7919"
            ]
          },
          "metadata": {},
          "execution_count": 20
        }
      ],
      "source": [
        "df['product_id'].nunique()"
      ]
    },
    {
      "cell_type": "code",
      "execution_count": null,
      "metadata": {
        "colab": {
          "base_uri": "https://localhost:8080/",
          "height": 627
        },
        "id": "-5FLoarG7nkp",
        "outputId": "0d928b62-5c45-4c99-8120-ef909b6f4555"
      },
      "outputs": [
        {
          "output_type": "stream",
          "name": "stdout",
          "text": [
            "        customer_id  product_parent  helpful_votes   total_votes\n",
            "count  1.000000e+04    1.000000e+04   10000.000000  10000.000000\n",
            "mean   2.708591e+07    4.984227e+08       0.665900      0.869700\n",
            "std    1.597098e+07    2.860739e+08       4.704157      5.174186\n",
            "min    1.987700e+04    2.079700e+04       0.000000      0.000000\n",
            "25%    1.390580e+07    2.571054e+08       0.000000      0.000000\n",
            "50%    2.566684e+07    4.997653e+08       0.000000      0.000000\n",
            "75%    4.206221e+07    7.388834e+08       0.000000      1.000000\n",
            "max    5.309495e+07    9.996552e+08     262.000000    274.000000\n"
          ]
        },
        {
          "output_type": "execute_result",
          "data": {
            "text/plain": [
              "'\\nNote:\\nonly note the star rating, helpful votes and total votes. \\n'"
            ],
            "application/vnd.google.colaboratory.intrinsic+json": {
              "type": "string"
            }
          },
          "metadata": {},
          "execution_count": 21
        },
        {
          "output_type": "display_data",
          "data": {
            "text/plain": [
              "<Figure size 640x480 with 1 Axes>"
            ],
            "image/png": "[encoded data removed]"
          },
          "metadata": {}
        }
      ],
      "source": [
        "#Star rating histogram\n",
        "print(df.describe())\n",
        "df = df.dropna(subset=['star_rating'])\n",
        "df['star_rating'] = pd.to_numeric(df['star_rating'], errors='coerce')\n",
        "df.hist(column='star_rating', bins=5)\n",
        "'''\n",
        "Note:\n",
        "only note the star rating, helpful votes and total votes. \n",
        "'''"
      ]
    },
    {
      "cell_type": "code",
      "execution_count": null,
      "metadata": {
        "colab": {
          "base_uri": "https://localhost:8080/",
          "height": 523
        },
        "id": "PUTUVb2-7scs",
        "outputId": "41629f83-4194-456c-b9c2-6629849ab6d0"
      },
      "outputs": [
        {
          "output_type": "stream",
          "name": "stdout",
          "text": [
            "Grocery    10000\n",
            "Name: product_category, dtype: int64\n"
          ]
        },
        {
          "output_type": "execute_result",
          "data": {
            "text/plain": [
              "<Axes: >"
            ]
          },
          "metadata": {},
          "execution_count": 22
        },
        {
          "output_type": "display_data",
          "data": {
            "text/plain": [
              "<Figure size 640x480 with 1 Axes>"
            ],
            "image/png": "[encoded data removed]"
          },
          "metadata": {}
        }
      ],
      "source": [
        "#Product Category bar graph\n",
        "print(df['product_category'].value_counts())\n",
        "df['product_category'].value_counts().plot(kind='bar')"
      ]
    },
    {
      "cell_type": "code",
      "execution_count": null,
      "metadata": {
        "colab": {
          "base_uri": "https://localhost:8080/",
          "height": 862
        },
        "id": "Xe5LWBMi75Gp",
        "outputId": "41987bd1-42dc-482b-fbf3-080cdda9d197"
      },
      "outputs": [
        {
          "output_type": "stream",
          "name": "stdout",
          "text": [
            "                customer_id  product_parent  star_rating  helpful_votes  \\\n",
            "customer_id        1.000000       -0.000750    -0.004756       0.010630   \n",
            "product_parent    -0.000750        1.000000     0.006327      -0.005495   \n",
            "star_rating       -0.004756        0.006327     1.000000      -0.078549   \n",
            "helpful_votes      0.010630       -0.005495    -0.078549       1.000000   \n",
            "total_votes        0.009480       -0.002349    -0.116607       0.987547   \n",
            "\n",
            "                total_votes  \n",
            "customer_id        0.009480  \n",
            "product_parent    -0.002349  \n",
            "star_rating       -0.116607  \n",
            "helpful_votes      0.987547  \n",
            "total_votes        1.000000  \n"
          ]
        },
        {
          "output_type": "stream",
          "name": "stderr",
          "text": [
            "<ipython-input-23-500458631414>:2: FutureWarning: The default value of numeric_only in DataFrame.corr is deprecated. In a future version, it will default to False. Select only valid columns or specify the value of numeric_only to silence this warning.\n",
            "  print(df.corr())\n",
            "<ipython-input-23-500458631414>:4: FutureWarning: The default value of numeric_only in DataFrame.corr is deprecated. In a future version, it will default to False. Select only valid columns or specify the value of numeric_only to silence this warning.\n",
            "  sns.heatmap(df.corr(), cmap='coolwarm')\n"
          ]
        },
        {
          "output_type": "execute_result",
          "data": {
            "text/plain": [
              "'\\n-1: perfectly negative correlation\\n0: no correlation\\n1: perfect correlation\\n\\n'"
            ],
            "application/vnd.google.colaboratory.intrinsic+json": {
              "type": "string"
            }
          },
          "metadata": {},
          "execution_count": 23
        },
        {
          "output_type": "display_data",
          "data": {
            "text/plain": [
              "<Figure size 640x480 with 2 Axes>"
            ],
            "image/png": "[encoded data removed]"
          },
          "metadata": {}
        }
      ],
      "source": [
        "#Heat map\n",
        "print(df.corr())\n",
        "import seaborn as sns\n",
        "sns.heatmap(df.corr(), cmap='coolwarm')\n",
        "'''\n",
        "-1: perfectly negative correlation\n",
        "0: no correlation\n",
        "1: perfect correlation\n",
        "\n",
        "'''"
      ]
    },
    {
      "cell_type": "code",
      "execution_count": null,
      "metadata": {
        "colab": {
          "base_uri": "https://localhost:8080/",
          "height": 836
        },
        "id": "6nWJTCuw8IL-",
        "outputId": "586097ae-9a9f-424e-82b2-66625e72da93"
      },
      "outputs": [
        {
          "output_type": "display_data",
          "data": {
            "text/plain": [
              "<Figure size 800x800 with 1 Axes>"
            ],
            "image/png": "[encoded data removed]"
          },
          "metadata": {}
        }
      ],
      "source": [
        "# Combine all review text into a single string\n",
        "reviews = ' '.join(df['review_body'].dropna().tolist())\n",
        "# Generate a wordcloud\n",
        "wordcloud = WordCloud(width=800, height=800, background_color='white').generate(reviews)\n",
        "# Display the wordcloud\n",
        "plt.figure(figsize=(8,8), facecolor=None)\n",
        "plt.imshow(wordcloud, interpolation='bilinear')\n",
        "plt.axis('off')\n",
        "plt.tight_layout(pad=0)\n",
        "plt.show()"
      ]
    },
    {
      "cell_type": "code",
      "execution_count": null,
      "metadata": {
        "colab": {
          "base_uri": "https://localhost:8080/",
          "height": 540
        },
        "id": "8Akpe57V8bMu",
        "outputId": "6175f39a-5527-4312-e23d-04fe6b7b656b"
      },
      "outputs": [
        {
          "output_type": "execute_result",
          "data": {
            "text/plain": [
              "'\\nThe VADER tool calculates four scores: positive, negative, neutral, and compound, with the compound score being a normalized weighted composite score that ranges from -1 (most negative) to +1 (most positive).\\nThe histogram of the sentiment scores can provide insight into the overall sentiment of the reviews. If the distribution of sentiment scores is skewed towards positive values, it indicates that the reviews are generally positive in sentiment. Conversely, if the distribution is skewed towards negative values, it indicates that the reviews are generally negative in sentiment. \\n'"
            ],
            "application/vnd.google.colaboratory.intrinsic+json": {
              "type": "string"
            }
          },
          "metadata": {},
          "execution_count": 25
        },
        {
          "output_type": "display_data",
          "data": {
            "text/plain": [
              "<Figure size 640x480 with 1 Axes>"
            ],
            "image/png": "[encoded data removed]"
          },
          "metadata": {}
        }
      ],
      "source": [
        "# Create a SentimentIntensityAnalyzer object\n",
        "sia = SentimentIntensityAnalyzer()\n",
        "# Calculate the sentiment scores for each review\n",
        "df['review_body'].dropna(inplace=True)\n",
        "df['sentiment'] = df['review_body'].apply(lambda x: sia.polarity_scores(str(x))['compound'])\n",
        "# Plot a histogram of the sentiment scores\n",
        "df.hist(column='sentiment', bins=30)\n",
        "'''\n",
        "The VADER tool calculates four scores: positive, negative, neutral, and compound, with the compound score being a normalized weighted composite score that ranges from -1 (most negative) to +1 (most positive).\n",
        "The histogram of the sentiment scores can provide insight into the overall sentiment of the reviews. If the distribution of sentiment scores is skewed towards positive values, it indicates that the reviews are generally positive in sentiment. Conversely, if the distribution is skewed towards negative values, it indicates that the reviews are generally negative in sentiment. \n",
        "'''"
      ]
    },
    {
      "cell_type": "code",
      "execution_count": null,
      "metadata": {
        "colab": {
          "base_uri": "https://localhost:8080/"
        },
        "id": "2HYFEfyM8xR9",
        "outputId": "7c7389f5-6604-45f5-f844-ef42f8f30741"
      },
      "outputs": [
        {
          "output_type": "stream",
          "name": "stderr",
          "text": [
            "WARNING:gensim.models.ldamodel:too few updates, training might not converge; consider increasing the number of passes or iterations to improve accuracy\n"
          ]
        },
        {
          "output_type": "stream",
          "name": "stdout",
          "text": [
            "(0, '0.034*\"excellent\" + 0.024*\"yummy\" + 0.019*\"the\" + 0.018*\"and\" + 0.016*\"these\" + 0.013*\"seasoning\" + 0.012*\"it\" + 0.011*\"my\" + 0.011*\"too\" + 0.011*\"wonderful\"')\n",
            "(1, '0.113*\"great\" + 0.039*\"product\" + 0.039*\"good\" + 0.034*\"it\" + 0.030*\"love\" + 0.027*\"and\" + 0.023*\"taste\" + 0.022*\"as\" + 0.022*\"price\" + 0.015*\"this\"')\n",
            "(2, '0.045*\"and\" + 0.033*\"the\" + 0.033*\"good\" + 0.028*\"these\" + 0.027*\"to\" + 0.026*\"of\" + 0.025*\"are\" + 0.022*\"very\" + 0.022*\"bars\" + 0.020*\"they\"')\n",
            "(3, '0.028*\"the\" + 0.027*\"this\" + 0.026*\"to\" + 0.021*\"love\" + 0.019*\"good\" + 0.018*\"stuff\" + 0.017*\"in\" + 0.014*\"my\" + 0.014*\"store\" + 0.013*\"find\"')\n",
            "(4, '0.027*\"the\" + 0.025*\"to\" + 0.022*\"of\" + 0.022*\"it\" + 0.020*\"and\" + 0.017*\"that\" + 0.016*\"this\" + 0.015*\"you\" + 0.014*\"is\" + 0.011*\"but\"')\n",
            "(5, '0.060*\"the\" + 0.037*\"and\" + 0.026*\"to\" + 0.025*\"it\" + 0.020*\"this\" + 0.020*\"was\" + 0.019*\"in\" + 0.016*\"of\" + 0.011*\"is\" + 0.010*\"my\"')\n",
            "(6, '0.052*\"the\" + 0.027*\"it\" + 0.022*\"of\" + 0.022*\"and\" + 0.021*\"is\" + 0.019*\"to\" + 0.018*\"you\" + 0.015*\"but\" + 0.014*\"not\" + 0.014*\"they\"')\n",
            "(7, '0.041*\"and\" + 0.037*\"it\" + 0.031*\"for\" + 0.028*\"to\" + 0.020*\"my\" + 0.018*\"in\" + 0.018*\"the\" + 0.017*\"is\" + 0.016*\"this\" + 0.014*\"with\"')\n",
            "(8, '0.043*\"is\" + 0.042*\"this\" + 0.035*\"it\" + 0.025*\"my\" + 0.022*\"the\" + 0.022*\"and\" + 0.019*\"to\" + 0.016*\"coffee\" + 0.015*\"for\" + 0.015*\"we\"')\n",
            "(9, '0.063*\"the\" + 0.027*\"it\" + 0.027*\"and\" + 0.024*\"of\" + 0.023*\"br\" + 0.022*\"to\" + 0.020*\"this\" + 0.018*\"is\" + 0.014*\"for\" + 0.012*\"in\"')\n"
          ]
        }
      ],
      "source": [
        "# Tokenize the review text\n",
        "tokenized_reviews = [simple_preprocess(review) for review in df['review_body'].dropna()]\n",
        "\n",
        "# Create a dictionary of the tokens\n",
        "dictionary = Dictionary(tokenized_reviews)\n",
        "\n",
        "# Convert the tokenized reviews into bag-of-words vectors\n",
        "corpus = [dictionary.doc2bow(review) for review in tokenized_reviews]\n",
        "\n",
        "# Train an LDA model on the corpus\n",
        "lda_model = LdaModel(corpus=corpus, id2word=dictionary, num_topics=10)\n",
        "\n",
        "# Print the top words in each topic\n",
        "for topic in lda_model.print_topics():\n",
        "    print(topic)"
      ]
    },
    {
      "cell_type": "code",
      "execution_count": null,
      "metadata": {
        "colab": {
          "base_uri": "https://localhost:8080/"
        },
        "id": "NpAMPk7e9b4l",
        "outputId": "eb2856d3-24f5-46ee-b2d6-bb23f72526b9"
      },
      "outputs": [
        {
          "output_type": "stream",
          "name": "stdout",
          "text": [
            "Coherence Score: 0.4945521222899106\n"
          ]
        }
      ],
      "source": [
        "from gensim.models import CoherenceModel\n",
        "\n",
        "# Compute coherence score for the trained LDA model\n",
        "coherence_model_lda = CoherenceModel(model=lda_model, texts=tokenized_reviews, dictionary=dictionary, coherence='c_v')\n",
        "coherence_lda = coherence_model_lda.get_coherence()\n",
        "print('Coherence Score:', coherence_lda)\n"
      ]
    },
    {
      "cell_type": "code",
      "execution_count": null,
      "metadata": {
        "colab": {
          "base_uri": "https://localhost:8080/"
        },
        "id": "0AYrVnX4-47R",
        "outputId": "c73aa27e-ce30-4514-9ab2-a5acd0a78c35"
      },
      "outputs": [
        {
          "output_type": "stream",
          "name": "stdout",
          "text": [
            "<class 'pandas.core.frame.DataFrame'>\n",
            "RangeIndex: 10000 entries, 0 to 9999\n",
            "Data columns (total 16 columns):\n",
            " #   Column             Non-Null Count  Dtype  \n",
            "---  ------             --------------  -----  \n",
            " 0   marketplace        10000 non-null  object \n",
            " 1   customer_id        10000 non-null  int64  \n",
            " 2   review_id          10000 non-null  object \n",
            " 3   product_id         10000 non-null  object \n",
            " 4   product_parent     10000 non-null  int64  \n",
            " 5   product_title      10000 non-null  object \n",
            " 6   product_category   10000 non-null  object \n",
            " 7   star_rating        10000 non-null  int64  \n",
            " 8   helpful_votes      10000 non-null  float64\n",
            " 9   total_votes        10000 non-null  float64\n",
            " 10  vine               10000 non-null  object \n",
            " 11  verified_purchase  10000 non-null  object \n",
            " 12  review_headline    10000 non-null  object \n",
            " 13  review_body        9998 non-null   object \n",
            " 14  review_date        10000 non-null  object \n",
            " 15  sentiment          10000 non-null  float64\n",
            "dtypes: float64(3), int64(3), object(10)\n",
            "memory usage: 1.2+ MB\n"
          ]
        }
      ],
      "source": [
        "df.info()"
      ]
    },
    {
      "cell_type": "code",
      "execution_count": null,
      "metadata": {
        "colab": {
          "base_uri": "https://localhost:8080/"
        },
        "id": "3mpLOXJT_3uW",
        "outputId": "826cc7c8-dc23-4a57-cca1-a0cb2ec443dd"
      },
      "outputs": [
        {
          "output_type": "execute_result",
          "data": {
            "text/plain": [
              "5    7183\n",
              "2     392\n",
              "1     729\n",
              "4    1147\n",
              "3     549\n",
              "Name: star_rating, dtype: int64"
            ]
          },
          "metadata": {},
          "execution_count": 29
        }
      ],
      "source": [
        "ratings_count=df.star_rating.value_counts(sort=False)\n",
        "ratings_count"
      ]
    },
    {
      "cell_type": "code",
      "execution_count": null,
      "metadata": {
        "colab": {
          "base_uri": "https://localhost:8080/"
        },
        "id": "0sJPQssc_8QD",
        "outputId": "2b478099-3c6c-4f70-e8ac-028a0c6a8f0a"
      },
      "outputs": [
        {
          "output_type": "stream",
          "name": "stdout",
          "text": [
            "Total number of Users   : 7918\n",
            "Total number of Products  : 7919\n"
          ]
        }
      ],
      "source": [
        "print(\"Total number of Users   :\", len(np.unique(df.customer_id)))\n",
        "print(\"Total number of Products  :\", len(np.unique(df.product_id)))"
      ]
    },
    {
      "cell_type": "code",
      "execution_count": null,
      "metadata": {
        "colab": {
          "base_uri": "https://localhost:8080/",
          "height": 428
        },
        "id": "PvohEB4A_-6p",
        "outputId": "0657ef0b-3156-40aa-cf92-2cc36986fab3"
      },
      "outputs": [
        {
          "output_type": "execute_result",
          "data": {
            "text/plain": [
              "<Axes: ylabel='star_rating'>"
            ]
          },
          "metadata": {},
          "execution_count": 31
        },
        {
          "output_type": "display_data",
          "data": {
            "text/plain": [
              "<Figure size 640x480 with 1 Axes>"
            ],
            "image/png": "[encoded data removed]"
          },
          "metadata": {}
        }
      ],
      "source": [
        "sns.boxplot(y='star_rating',data=df)\n",
        "#dots: outliers\n"
      ]
    },
    {
      "cell_type": "code",
      "execution_count": null,
      "metadata": {
        "colab": {
          "base_uri": "https://localhost:8080/"
        },
        "id": "g6gXtIKyAAqv",
        "outputId": "3fc413bb-1fbd-4740-e7a6-f7c788b8f937"
      },
      "outputs": [
        {
          "output_type": "stream",
          "name": "stdout",
          "text": [
            "Top 10 users based on ratings: \n",
            " customer_id\n",
            "20674418    18\n",
            "13403431    17\n",
            "36290808    15\n",
            "37599324    14\n",
            "34247947    14\n",
            "30716947    13\n",
            "1383733     13\n",
            "11375470    13\n",
            "12046133    12\n",
            "1535682     12\n",
            "dtype: int64\n"
          ]
        }
      ],
      "source": [
        "#Check the top 10 users based on ratings\n",
        "df.drop_duplicates(inplace=True)\n",
        "most_rated=df.groupby('customer_id').size().sort_values(ascending=False)\n",
        "print('Top 10 users based on ratings: \\n',most_rated[:10])"
      ]
    },
    {
      "cell_type": "code",
      "execution_count": null,
      "metadata": {
        "colab": {
          "base_uri": "https://localhost:8080/"
        },
        "id": "vtcQVaSbAFho",
        "outputId": "d0253544-a724-4c6b-8079-82302a992841"
      },
      "outputs": [
        {
          "output_type": "stream",
          "name": "stdout",
          "text": [
            "Number of users who have rated 10 or more items = 774\n",
            "Number of unique users in the final data =  116\n",
            "Number of unique products in the final data =  748\n"
          ]
        }
      ],
      "source": [
        "counts=df.customer_id.value_counts()\n",
        "df1_final=df[df.customer_id.isin(counts[counts>=5].index)]\n",
        "print('Number of users who have rated 10 or more items =', len(df1_final))\n",
        "print('Number of unique users in the final data = ', df1_final['customer_id'].nunique())\n",
        "print('Number of unique products in the final data = ', df1_final['product_id'].nunique())"
      ]
    },
    {
      "cell_type": "code",
      "source": [
        "df.head()\n"
      ],
      "metadata": {
        "colab": {
          "base_uri": "https://localhost:8080/",
          "height": 565
        },
        "id": "5GI1LeGk7Gn4",
        "outputId": "00855ca9-fdad-43c2-8b57-3e835a1ab88c"
      },
      "execution_count": null,
      "outputs": [
        {
          "output_type": "execute_result",
          "data": {
            "text/plain": [
              "  marketplace  customer_id       review_id  product_id  product_parent  \\\n",
              "0          US     42521656  R26MV8D0KG6QI6  B000SAQCWC       159713740   \n",
              "1          US     12049833  R1OF8GP57AQ1A0  B00509LVIQ       138680402   \n",
              "2          US       107642  R3VDC1QB6MC4ZZ  B00KHXESLC       252021703   \n",
              "3          US      6042304  R12FA3DCF8F9ER  B000F8JIIC       752728342   \n",
              "4          US     18123821   RTWHVNV6X4CNJ  B004ZWR9RQ       552138758   \n",
              "\n",
              "                                       product_title product_category  \\\n",
              "0  The Cravings Place Chocolate Chunk Cookie Mix,...          Grocery   \n",
              "1            Mauna Loa Macadamias, 11 Ounce Packages          Grocery   \n",
              "2  Organic Matcha Green Tea Powder - 100% Pure Ma...          Grocery   \n",
              "3  15oz Raspberry Lyons Designer Dessert Syrup Sauce          Grocery   \n",
              "4  Stride Spark Kinetic Fruit Sugar Free Gum, 14-...          Grocery   \n",
              "\n",
              "   star_rating  helpful_votes  total_votes vine verified_purchase  \\\n",
              "0            5            0.0          0.0    N                 Y   \n",
              "1            5            0.0          0.0    N                 Y   \n",
              "2            5            0.0          0.0    N                 N   \n",
              "3            5            0.0          0.0    N                 Y   \n",
              "4            5            0.0          0.0    N                 Y   \n",
              "\n",
              "                      review_headline  \\\n",
              "0  Using these for years - love them.   \n",
              "1                           Wonderful   \n",
              "2                          Five Stars   \n",
              "3                          Five Stars   \n",
              "4                          Five Stars   \n",
              "\n",
              "                                         review_body review_date  sentiment  \n",
              "0  As a family allergic to wheat, dairy, eggs, nu...  2015-08-31     0.8096  \n",
              "1  My favorite nut.  Creamy, crunchy, salty, and ...  2015-08-31     0.6915  \n",
              "2  This green tea tastes so good! My girlfriend l...  2015-08-31     0.8286  \n",
              "3  I love Melissa's brand but this is a great sec...  2015-08-31     0.8500  \n",
              "4                                               good  2015-08-31     0.4404  "
            ],
            "text/html": [
              "\n",
              "  <div id=\"df-8697c1e9-4d85-424f-87c5-9fcc18e14ad0\">\n",
              "    <div class=\"colab-df-container\">\n",
              "      <div>\n",
              "<style scoped>\n",
              "    .dataframe tbody tr th:only-of-type {\n",
              "        vertical-align: middle;\n",
              "    }\n",
              "\n",
              "    .dataframe tbody tr th {\n",
              "        vertical-align: top;\n",
              "    }\n",
              "\n",
              "    .dataframe thead th {\n",
              "        text-align: right;\n",
              "    }\n",
              "</style>\n",
              "<table border=\"1\" class=\"dataframe\">\n",
              "  <thead>\n",
              "    <tr style=\"text-align: right;\">\n",
              "      <th></th>\n",
              "      <th>marketplace</th>\n",
              "      <th>customer_id</th>\n",
              "      <th>review_id</th>\n",
              "      <th>product_id</th>\n",
              "      <th>product_parent</th>\n",
              "      <th>product_title</th>\n",
              "      <th>product_category</th>\n",
              "      <th>star_rating</th>\n",
              "      <th>helpful_votes</th>\n",
              "      <th>total_votes</th>\n",
              "      <th>vine</th>\n",
              "      <th>verified_purchase</th>\n",
              "      <th>review_headline</th>\n",
              "      <th>review_body</th>\n",
              "      <th>review_date</th>\n",
              "      <th>sentiment</th>\n",
              "    </tr>\n",
              "  </thead>\n",
              "  <tbody>\n",
              "    <tr>\n",
              "      <th>0</th>\n",
              "      <td>US</td>\n",
              "      <td>42521656</td>\n",
              "      <td>R26MV8D0KG6QI6</td>\n",
              "      <td>B000SAQCWC</td>\n",
              "      <td>159713740</td>\n",
              "      <td>The Cravings Place Chocolate Chunk Cookie Mix,...</td>\n",
              "      <td>Grocery</td>\n",
              "      <td>5</td>\n",
              "      <td>0.0</td>\n",
              "      <td>0.0</td>\n",
              "      <td>N</td>\n",
              "      <td>Y</td>\n",
              "      <td>Using these for years - love them.</td>\n",
              "      <td>As a family allergic to wheat, dairy, eggs, nu...</td>\n",
              "      <td>2015-08-31</td>\n",
              "      <td>0.8096</td>\n",
              "    </tr>\n",
              "    <tr>\n",
              "      <th>1</th>\n",
              "      <td>US</td>\n",
              "      <td>12049833</td>\n",
              "      <td>R1OF8GP57AQ1A0</td>\n",
              "      <td>B00509LVIQ</td>\n",
              "      <td>138680402</td>\n",
              "      <td>Mauna Loa Macadamias, 11 Ounce Packages</td>\n",
              "      <td>Grocery</td>\n",
              "      <td>5</td>\n",
              "      <td>0.0</td>\n",
              "      <td>0.0</td>\n",
              "      <td>N</td>\n",
              "      <td>Y</td>\n",
              "      <td>Wonderful</td>\n",
              "      <td>My favorite nut.  Creamy, crunchy, salty, and ...</td>\n",
              "      <td>2015-08-31</td>\n",
              "      <td>0.6915</td>\n",
              "    </tr>\n",
              "    <tr>\n",
              "      <th>2</th>\n",
              "      <td>US</td>\n",
              "      <td>107642</td>\n",
              "      <td>R3VDC1QB6MC4ZZ</td>\n",
              "      <td>B00KHXESLC</td>\n",
              "      <td>252021703</td>\n",
              "      <td>Organic Matcha Green Tea Powder - 100% Pure Ma...</td>\n",
              "      <td>Grocery</td>\n",
              "      <td>5</td>\n",
              "      <td>0.0</td>\n",
              "      <td>0.0</td>\n",
              "      <td>N</td>\n",
              "      <td>N</td>\n",
              "      <td>Five Stars</td>\n",
              "      <td>This green tea tastes so good! My girlfriend l...</td>\n",
              "      <td>2015-08-31</td>\n",
              "      <td>0.8286</td>\n",
              "    </tr>\n",
              "    <tr>\n",
              "      <th>3</th>\n",
              "      <td>US</td>\n",
              "      <td>6042304</td>\n",
              "      <td>R12FA3DCF8F9ER</td>\n",
              "      <td>B000F8JIIC</td>\n",
              "      <td>752728342</td>\n",
              "      <td>15oz Raspberry Lyons Designer Dessert Syrup Sauce</td>\n",
              "      <td>Grocery</td>\n",
              "      <td>5</td>\n",
              "      <td>0.0</td>\n",
              "      <td>0.0</td>\n",
              "      <td>N</td>\n",
              "      <td>Y</td>\n",
              "      <td>Five Stars</td>\n",
              "      <td>I love Melissa's brand but this is a great sec...</td>\n",
              "      <td>2015-08-31</td>\n",
              "      <td>0.8500</td>\n",
              "    </tr>\n",
              "    <tr>\n",
              "      <th>4</th>\n",
              "      <td>US</td>\n",
              "      <td>18123821</td>\n",
              "      <td>RTWHVNV6X4CNJ</td>\n",
              "      <td>B004ZWR9RQ</td>\n",
              "      <td>552138758</td>\n",
              "      <td>Stride Spark Kinetic Fruit Sugar Free Gum, 14-...</td>\n",
              "      <td>Grocery</td>\n",
              "      <td>5</td>\n",
              "      <td>0.0</td>\n",
              "      <td>0.0</td>\n",
              "      <td>N</td>\n",
              "      <td>Y</td>\n",
              "      <td>Five Stars</td>\n",
              "      <td>good</td>\n",
              "      <td>2015-08-31</td>\n",
              "      <td>0.4404</td>\n",
              "    </tr>\n",
              "  </tbody>\n",
              "</table>\n",
              "</div>\n",
              "      <button class=\"colab-df-convert\" onclick=\"convertToInteractive('df-8697c1e9-4d85-424f-87c5-9fcc18e14ad0')\"\n",
              "              title=\"Convert this dataframe to an interactive table.\"\n",
              "              style=\"display:none;\">\n",
              "        \n",
              "  <svg xmlns=\"http://www.w3.org/2000/svg\" height=\"24px\"viewBox=\"0 0 24 24\"\n",
              "       width=\"24px\">\n",
              "    <path d=\"M0 0h24v24H0V0z\" fill=\"none\"/>\n",
              "    <path d=\"M18.56 5.44l.94 2.06.94-2.06 2.06-.94-2.06-.94-.94-2.06-.94 2.06-2.06.94zm-11 1L8.5 8.5l.94-2.06 2.06-.94-2.06-.94L8.5 2.5l-.94 2.06-2.06.94zm10 10l.94 2.06.94-2.06 2.06-.94-2.06-.94-.94-2.06-.94 2.06-2.06.94z\"/><path d=\"M17.41 7.96l-1.37-1.37c-.4-.4-.92-.59-1.43-.59-.52 0-1.04.2-1.43.59L10.3 9.45l-7.72 7.72c-.78.78-.78 2.05 0 2.83L4 21.41c.39.39.9.59 1.41.59.51 0 1.02-.2 1.41-.59l7.78-7.78 2.81-2.81c.8-.78.8-2.07 0-2.86zM5.41 20L4 18.59l7.72-7.72 1.47 1.35L5.41 20z\"/>\n",
              "  </svg>\n",
              "      </button>\n",
              "      \n",
              "  <style>\n",
              "    .colab-df-container {\n",
              "      display:flex;\n",
              "      flex-wrap:wrap;\n",
              "      gap: 12px;\n",
              "    }\n",
              "\n",
              "    .colab-df-convert {\n",
              "      background-color: #E8F0FE;\n",
              "      border: none;\n",
              "      border-radius: 50%;\n",
              "      cursor: pointer;\n",
              "      display: none;\n",
              "      fill: #1967D2;\n",
              "      height: 32px;\n",
              "      padding: 0 0 0 0;\n",
              "      width: 32px;\n",
              "    }\n",
              "\n",
              "    .colab-df-convert:hover {\n",
              "      background-color: #E2EBFA;\n",
              "      box-shadow: 0px 1px 2px rgba(60, 64, 67, 0.3), 0px 1px 3px 1px rgba(60, 64, 67, 0.15);\n",
              "      fill: #174EA6;\n",
              "    }\n",
              "\n",
              "    [theme=dark] .colab-df-convert {\n",
              "      background-color: #3B4455;\n",
              "      fill: #D2E3FC;\n",
              "    }\n",
              "\n",
              "    [theme=dark] .colab-df-convert:hover {\n",
              "      background-color: #434B5C;\n",
              "      box-shadow: 0px 1px 3px 1px rgba(0, 0, 0, 0.15);\n",
              "      filter: drop-shadow(0px 1px 2px rgba(0, 0, 0, 0.3));\n",
              "      fill: #FFFFFF;\n",
              "    }\n",
              "  </style>\n",
              "\n",
              "      <script>\n",
              "        const buttonEl =\n",
              "          document.querySelector('#df-8697c1e9-4d85-424f-87c5-9fcc18e14ad0 button.colab-df-convert');\n",
              "        buttonEl.style.display =\n",
              "          google.colab.kernel.accessAllowed ? 'block' : 'none';\n",
              "\n",
              "        async function convertToInteractive(key) {\n",
              "          const element = document.querySelector('#df-8697c1e9-4d85-424f-87c5-9fcc18e14ad0');\n",
              "          const dataTable =\n",
              "            await google.colab.kernel.invokeFunction('convertToInteractive',\n",
              "                                                     [key], {});\n",
              "          if (!dataTable) return;\n",
              "\n",
              "          const docLinkHtml = 'Like what you see? Visit the ' +\n",
              "            '<a target=\"_blank\" href=https://colab.research.google.com/notebooks/data_table.ipynb>data table notebook</a>'\n",
              "            + ' to learn more about interactive tables.';\n",
              "          element.innerHTML = '';\n",
              "          dataTable['output_type'] = 'display_data';\n",
              "          await google.colab.output.renderOutput(dataTable, element);\n",
              "          const docLink = document.createElement('div');\n",
              "          docLink.innerHTML = docLinkHtml;\n",
              "          element.appendChild(docLink);\n",
              "        }\n",
              "      </script>\n",
              "    </div>\n",
              "  </div>\n",
              "  "
            ]
          },
          "metadata": {},
          "execution_count": 34
        }
      ]
    },
    {
      "cell_type": "markdown",
      "metadata": {
        "id": "Ua39JiExOVx0"
      },
      "source": [
        "#**Preprocessing**\n"
      ]
    },
    {
      "cell_type": "code",
      "source": [
        "df.drop(['marketplace','vine', 'verified_purchase'], axis=1)"
      ],
      "metadata": {
        "colab": {
          "base_uri": "https://localhost:8080/",
          "height": 1000
        },
        "id": "RjcacBdc7DZ3",
        "outputId": "80d5afc0-e061-4b3d-8a25-694f6577224b"
      },
      "execution_count": null,
      "outputs": [
        {
          "output_type": "execute_result",
          "data": {
            "text/plain": [
              "      customer_id       review_id  product_id  product_parent  \\\n",
              "0        42521656  R26MV8D0KG6QI6  B000SAQCWC       159713740   \n",
              "1        12049833  R1OF8GP57AQ1A0  B00509LVIQ       138680402   \n",
              "2          107642  R3VDC1QB6MC4ZZ  B00KHXESLC       252021703   \n",
              "3         6042304  R12FA3DCF8F9ER  B000F8JIIC       752728342   \n",
              "4        18123821   RTWHVNV6X4CNJ  B004ZWR9RQ       552138758   \n",
              "...           ...             ...         ...             ...   \n",
              "9995     18423497  R1AYN0EGNZY898  B003Q3EYVO       946201884   \n",
              "9996     15676025   RP1U62EKOFMOT  B004D03WCG       695987685   \n",
              "9997     19638218  R1MVDG6C173V3C  B004FEGLLO       493740672   \n",
              "9998     51274903  R2O1TZ2JXWXDE6  B004B7C524       873009722   \n",
              "9999     45220881  R2UHBQQSXKCF5Y  B00NJXA2EE       314822672   \n",
              "\n",
              "                                          product_title product_category  \\\n",
              "0     [craving, place, chocolate, chunk, cookie, mix...          Grocery   \n",
              "1           [mauna, loa, macadamia, 11, ounce, package]          Grocery   \n",
              "2     [organic, matcha, green, tea, powder, 100, pur...          Grocery   \n",
              "3     [15oz, raspberry, lyon, designer, dessert, syr...          Grocery   \n",
              "4     [stride, spark, kinetic, fruit, sugar, free, g...          Grocery   \n",
              "...                                                 ...              ...   \n",
              "9995  [farmdirect, 100, kona, coffee, dark, roast, w...          Grocery   \n",
              "9996                        [stonewall, kitchen, sauce]          Grocery   \n",
              "9997  [hawaiian, punch, berry, blue, typhoon, 128oun...          Grocery   \n",
              "9998  [provence, epice, provence, herb, france, larg...          Grocery   \n",
              "9999                [body, part, gummy, candy, 3, pack]          Grocery   \n",
              "\n",
              "      star_rating  helpful_votes  total_votes  \\\n",
              "0               5            0.0          0.0   \n",
              "1               5            0.0          0.0   \n",
              "2               5            0.0          0.0   \n",
              "3               5            0.0          0.0   \n",
              "4               5            0.0          0.0   \n",
              "...           ...            ...          ...   \n",
              "9995            5            0.0          0.0   \n",
              "9996            5            0.0          0.0   \n",
              "9997            5            0.0          0.0   \n",
              "9998            4            0.0          0.0   \n",
              "9999            2            0.0          0.0   \n",
              "\n",
              "                              review_headline  \\\n",
              "0          Using these for years - love them.   \n",
              "1                                   Wonderful   \n",
              "2                                  Five Stars   \n",
              "3                                  Five Stars   \n",
              "4                                  Five Stars   \n",
              "...                                       ...   \n",
              "9995                               Five Stars   \n",
              "9996  Choca-holics rejoice!  Love this stuff!   \n",
              "9997                               Five Stars   \n",
              "9998           Put it on  NY Strip?  You win!   \n",
              "9999                      NOT worth the money   \n",
              "\n",
              "                                            review_body review_date  sentiment  \n",
              "0     [family, allergic, wheat, dairy, egg, nut, sev...  2015-08-31     0.8096  \n",
              "1     [favorite, nut, creamy, crunchy, salty, slight...  2015-08-31     0.6915  \n",
              "2           [green, tea, taste, good, girlfriend, love]  2015-08-31     0.8286  \n",
              "3     [love, melissa, brand, great, second, cant, ge...  2015-08-31     0.8500  \n",
              "4                                                [good]  2015-08-31     0.4404  \n",
              "...                                                 ...         ...        ...  \n",
              "9995  [love, medium, dark, roast, always, happy, blu...  2015-08-28     0.8360  \n",
              "9996  [always, top, line, chocolate, sauce, oh, remi...  2015-08-28     0.9022  \n",
              "9997                               [thanks, good, item]  2015-08-28     0.7003  \n",
              "9998  [salt, pepper, herbe, de, provence, ny, strip,...  2015-08-28     0.0000  \n",
              "9999  [disappointed, 6, finger, 4, red, blob, guess,...  2015-08-28    -0.3311  \n",
              "\n",
              "[9998 rows x 13 columns]"
            ],
            "text/html": [
              "\n",
              "  <div id=\"df-0a24b6a0-a46c-4acc-b214-91172bd2eb18\">\n",
              "    <div class=\"colab-df-container\">\n",
              "      <div>\n",
              "<style scoped>\n",
              "    .dataframe tbody tr th:only-of-type {\n",
              "        vertical-align: middle;\n",
              "    }\n",
              "\n",
              "    .dataframe tbody tr th {\n",
              "        vertical-align: top;\n",
              "    }\n",
              "\n",
              "    .dataframe thead th {\n",
              "        text-align: right;\n",
              "    }\n",
              "</style>\n",
              "<table border=\"1\" class=\"dataframe\">\n",
              "  <thead>\n",
              "    <tr style=\"text-align: right;\">\n",
              "      <th></th>\n",
              "      <th>customer_id</th>\n",
              "      <th>review_id</th>\n",
              "      <th>product_id</th>\n",
              "      <th>product_parent</th>\n",
              "      <th>product_title</th>\n",
              "      <th>product_category</th>\n",
              "      <th>star_rating</th>\n",
              "      <th>helpful_votes</th>\n",
              "      <th>total_votes</th>\n",
              "      <th>review_headline</th>\n",
              "      <th>review_body</th>\n",
              "      <th>review_date</th>\n",
              "      <th>sentiment</th>\n",
              "    </tr>\n",
              "  </thead>\n",
              "  <tbody>\n",
              "    <tr>\n",
              "      <th>0</th>\n",
              "      <td>42521656</td>\n",
              "      <td>R26MV8D0KG6QI6</td>\n",
              "      <td>B000SAQCWC</td>\n",
              "      <td>159713740</td>\n",
              "      <td>[craving, place, chocolate, chunk, cookie, mix...</td>\n",
              "      <td>Grocery</td>\n",
              "      <td>5</td>\n",
              "      <td>0.0</td>\n",
              "      <td>0.0</td>\n",
              "      <td>Using these for years - love them.</td>\n",
              "      <td>[family, allergic, wheat, dairy, egg, nut, sev...</td>\n",
              "      <td>2015-08-31</td>\n",
              "      <td>0.8096</td>\n",
              "    </tr>\n",
              "    <tr>\n",
              "      <th>1</th>\n",
              "      <td>12049833</td>\n",
              "      <td>R1OF8GP57AQ1A0</td>\n",
              "      <td>B00509LVIQ</td>\n",
              "      <td>138680402</td>\n",
              "      <td>[mauna, loa, macadamia, 11, ounce, package]</td>\n",
              "      <td>Grocery</td>\n",
              "      <td>5</td>\n",
              "      <td>0.0</td>\n",
              "      <td>0.0</td>\n",
              "      <td>Wonderful</td>\n",
              "      <td>[favorite, nut, creamy, crunchy, salty, slight...</td>\n",
              "      <td>2015-08-31</td>\n",
              "      <td>0.6915</td>\n",
              "    </tr>\n",
              "    <tr>\n",
              "      <th>2</th>\n",
              "      <td>107642</td>\n",
              "      <td>R3VDC1QB6MC4ZZ</td>\n",
              "      <td>B00KHXESLC</td>\n",
              "      <td>252021703</td>\n",
              "      <td>[organic, matcha, green, tea, powder, 100, pur...</td>\n",
              "      <td>Grocery</td>\n",
              "      <td>5</td>\n",
              "      <td>0.0</td>\n",
              "      <td>0.0</td>\n",
              "      <td>Five Stars</td>\n",
              "      <td>[green, tea, taste, good, girlfriend, love]</td>\n",
              "      <td>2015-08-31</td>\n",
              "      <td>0.8286</td>\n",
              "    </tr>\n",
              "    <tr>\n",
              "      <th>3</th>\n",
              "      <td>6042304</td>\n",
              "      <td>R12FA3DCF8F9ER</td>\n",
              "      <td>B000F8JIIC</td>\n",
              "      <td>752728342</td>\n",
              "      <td>[15oz, raspberry, lyon, designer, dessert, syr...</td>\n",
              "      <td>Grocery</td>\n",
              "      <td>5</td>\n",
              "      <td>0.0</td>\n",
              "      <td>0.0</td>\n",
              "      <td>Five Stars</td>\n",
              "      <td>[love, melissa, brand, great, second, cant, ge...</td>\n",
              "      <td>2015-08-31</td>\n",
              "      <td>0.8500</td>\n",
              "    </tr>\n",
              "    <tr>\n",
              "      <th>4</th>\n",
              "      <td>18123821</td>\n",
              "      <td>RTWHVNV6X4CNJ</td>\n",
              "      <td>B004ZWR9RQ</td>\n",
              "      <td>552138758</td>\n",
              "      <td>[stride, spark, kinetic, fruit, sugar, free, g...</td>\n",
              "      <td>Grocery</td>\n",
              "      <td>5</td>\n",
              "      <td>0.0</td>\n",
              "      <td>0.0</td>\n",
              "      <td>Five Stars</td>\n",
              "      <td>[good]</td>\n",
              "      <td>2015-08-31</td>\n",
              "      <td>0.4404</td>\n",
              "    </tr>\n",
              "    <tr>\n",
              "      <th>...</th>\n",
              "      <td>...</td>\n",
              "      <td>...</td>\n",
              "      <td>...</td>\n",
              "      <td>...</td>\n",
              "      <td>...</td>\n",
              "      <td>...</td>\n",
              "      <td>...</td>\n",
              "      <td>...</td>\n",
              "      <td>...</td>\n",
              "      <td>...</td>\n",
              "      <td>...</td>\n",
              "      <td>...</td>\n",
              "      <td>...</td>\n",
              "    </tr>\n",
              "    <tr>\n",
              "      <th>9995</th>\n",
              "      <td>18423497</td>\n",
              "      <td>R1AYN0EGNZY898</td>\n",
              "      <td>B003Q3EYVO</td>\n",
              "      <td>946201884</td>\n",
              "      <td>[farmdirect, 100, kona, coffee, dark, roast, w...</td>\n",
              "      <td>Grocery</td>\n",
              "      <td>5</td>\n",
              "      <td>0.0</td>\n",
              "      <td>0.0</td>\n",
              "      <td>Five Stars</td>\n",
              "      <td>[love, medium, dark, roast, always, happy, blu...</td>\n",
              "      <td>2015-08-28</td>\n",
              "      <td>0.8360</td>\n",
              "    </tr>\n",
              "    <tr>\n",
              "      <th>9996</th>\n",
              "      <td>15676025</td>\n",
              "      <td>RP1U62EKOFMOT</td>\n",
              "      <td>B004D03WCG</td>\n",
              "      <td>695987685</td>\n",
              "      <td>[stonewall, kitchen, sauce]</td>\n",
              "      <td>Grocery</td>\n",
              "      <td>5</td>\n",
              "      <td>0.0</td>\n",
              "      <td>0.0</td>\n",
              "      <td>Choca-holics rejoice!  Love this stuff!</td>\n",
              "      <td>[always, top, line, chocolate, sauce, oh, remi...</td>\n",
              "      <td>2015-08-28</td>\n",
              "      <td>0.9022</td>\n",
              "    </tr>\n",
              "    <tr>\n",
              "      <th>9997</th>\n",
              "      <td>19638218</td>\n",
              "      <td>R1MVDG6C173V3C</td>\n",
              "      <td>B004FEGLLO</td>\n",
              "      <td>493740672</td>\n",
              "      <td>[hawaiian, punch, berry, blue, typhoon, 128oun...</td>\n",
              "      <td>Grocery</td>\n",
              "      <td>5</td>\n",
              "      <td>0.0</td>\n",
              "      <td>0.0</td>\n",
              "      <td>Five Stars</td>\n",
              "      <td>[thanks, good, item]</td>\n",
              "      <td>2015-08-28</td>\n",
              "      <td>0.7003</td>\n",
              "    </tr>\n",
              "    <tr>\n",
              "      <th>9998</th>\n",
              "      <td>51274903</td>\n",
              "      <td>R2O1TZ2JXWXDE6</td>\n",
              "      <td>B004B7C524</td>\n",
              "      <td>873009722</td>\n",
              "      <td>[provence, epice, provence, herb, france, larg...</td>\n",
              "      <td>Grocery</td>\n",
              "      <td>4</td>\n",
              "      <td>0.0</td>\n",
              "      <td>0.0</td>\n",
              "      <td>Put it on  NY Strip?  You win!</td>\n",
              "      <td>[salt, pepper, herbe, de, provence, ny, strip,...</td>\n",
              "      <td>2015-08-28</td>\n",
              "      <td>0.0000</td>\n",
              "    </tr>\n",
              "    <tr>\n",
              "      <th>9999</th>\n",
              "      <td>45220881</td>\n",
              "      <td>R2UHBQQSXKCF5Y</td>\n",
              "      <td>B00NJXA2EE</td>\n",
              "      <td>314822672</td>\n",
              "      <td>[body, part, gummy, candy, 3, pack]</td>\n",
              "      <td>Grocery</td>\n",
              "      <td>2</td>\n",
              "      <td>0.0</td>\n",
              "      <td>0.0</td>\n",
              "      <td>NOT worth the money</td>\n",
              "      <td>[disappointed, 6, finger, 4, red, blob, guess,...</td>\n",
              "      <td>2015-08-28</td>\n",
              "      <td>-0.3311</td>\n",
              "    </tr>\n",
              "  </tbody>\n",
              "</table>\n",
              "<p>9998 rows × 13 columns</p>\n",
              "</div>\n",
              "      <button class=\"colab-df-convert\" onclick=\"convertToInteractive('df-0a24b6a0-a46c-4acc-b214-91172bd2eb18')\"\n",
              "              title=\"Convert this dataframe to an interactive table.\"\n",
              "              style=\"display:none;\">\n",
              "        \n",
              "  <svg xmlns=\"http://www.w3.org/2000/svg\" height=\"24px\"viewBox=\"0 0 24 24\"\n",
              "       width=\"24px\">\n",
              "    <path d=\"M0 0h24v24H0V0z\" fill=\"none\"/>\n",
              "    <path d=\"M18.56 5.44l.94 2.06.94-2.06 2.06-.94-2.06-.94-.94-2.06-.94 2.06-2.06.94zm-11 1L8.5 8.5l.94-2.06 2.06-.94-2.06-.94L8.5 2.5l-.94 2.06-2.06.94zm10 10l.94 2.06.94-2.06 2.06-.94-2.06-.94-.94-2.06-.94 2.06-2.06.94z\"/><path d=\"M17.41 7.96l-1.37-1.37c-.4-.4-.92-.59-1.43-.59-.52 0-1.04.2-1.43.59L10.3 9.45l-7.72 7.72c-.78.78-.78 2.05 0 2.83L4 21.41c.39.39.9.59 1.41.59.51 0 1.02-.2 1.41-.59l7.78-7.78 2.81-2.81c.8-.78.8-2.07 0-2.86zM5.41 20L4 18.59l7.72-7.72 1.47 1.35L5.41 20z\"/>\n",
              "  </svg>\n",
              "      </button>\n",
              "      \n",
              "  <style>\n",
              "    .colab-df-container {\n",
              "      display:flex;\n",
              "      flex-wrap:wrap;\n",
              "      gap: 12px;\n",
              "    }\n",
              "\n",
              "    .colab-df-convert {\n",
              "      background-color: #E8F0FE;\n",
              "      border: none;\n",
              "      border-radius: 50%;\n",
              "      cursor: pointer;\n",
              "      display: none;\n",
              "      fill: #1967D2;\n",
              "      height: 32px;\n",
              "      padding: 0 0 0 0;\n",
              "      width: 32px;\n",
              "    }\n",
              "\n",
              "    .colab-df-convert:hover {\n",
              "      background-color: #E2EBFA;\n",
              "      box-shadow: 0px 1px 2px rgba(60, 64, 67, 0.3), 0px 1px 3px 1px rgba(60, 64, 67, 0.15);\n",
              "      fill: #174EA6;\n",
              "    }\n",
              "\n",
              "    [theme=dark] .colab-df-convert {\n",
              "      background-color: #3B4455;\n",
              "      fill: #D2E3FC;\n",
              "    }\n",
              "\n",
              "    [theme=dark] .colab-df-convert:hover {\n",
              "      background-color: #434B5C;\n",
              "      box-shadow: 0px 1px 3px 1px rgba(0, 0, 0, 0.15);\n",
              "      filter: drop-shadow(0px 1px 2px rgba(0, 0, 0, 0.3));\n",
              "      fill: #FFFFFF;\n",
              "    }\n",
              "  </style>\n",
              "\n",
              "      <script>\n",
              "        const buttonEl =\n",
              "          document.querySelector('#df-0a24b6a0-a46c-4acc-b214-91172bd2eb18 button.colab-df-convert');\n",
              "        buttonEl.style.display =\n",
              "          google.colab.kernel.accessAllowed ? 'block' : 'none';\n",
              "\n",
              "        async function convertToInteractive(key) {\n",
              "          const element = document.querySelector('#df-0a24b6a0-a46c-4acc-b214-91172bd2eb18');\n",
              "          const dataTable =\n",
              "            await google.colab.kernel.invokeFunction('convertToInteractive',\n",
              "                                                     [key], {});\n",
              "          if (!dataTable) return;\n",
              "\n",
              "          const docLinkHtml = 'Like what you see? Visit the ' +\n",
              "            '<a target=\"_blank\" href=https://colab.research.google.com/notebooks/data_table.ipynb>data table notebook</a>'\n",
              "            + ' to learn more about interactive tables.';\n",
              "          element.innerHTML = '';\n",
              "          dataTable['output_type'] = 'display_data';\n",
              "          await google.colab.output.renderOutput(dataTable, element);\n",
              "          const docLink = document.createElement('div');\n",
              "          docLink.innerHTML = docLinkHtml;\n",
              "          element.appendChild(docLink);\n",
              "        }\n",
              "      </script>\n",
              "    </div>\n",
              "  </div>\n",
              "  "
            ]
          },
          "metadata": {},
          "execution_count": 81
        }
      ]
    },
    {
      "cell_type": "code",
      "execution_count": null,
      "metadata": {
        "id": "AUVqx8xb0esB"
      },
      "outputs": [],
      "source": [
        "df = df.dropna(subset=['review_body','star_rating','product_title'])"
      ]
    },
    {
      "cell_type": "code",
      "execution_count": null,
      "metadata": {
        "id": "y4TP8kpDoDwF"
      },
      "outputs": [],
      "source": [
        "# Case Folding\n",
        "df['review_body']=df['review_body'].str.lower()\n",
        "df['product_title']=df['product_title'].str.lower()\n"
      ]
    },
    {
      "cell_type": "code",
      "execution_count": null,
      "metadata": {
        "colab": {
          "base_uri": "https://localhost:8080/"
        },
        "id": "krDFwNztoSsu",
        "outputId": "45e11df3-9844-4042-db77-70588fcaa968"
      },
      "outputs": [
        {
          "output_type": "stream",
          "name": "stderr",
          "text": [
            "<ipython-input-38-8ab4152a84fe>:2: FutureWarning: The default value of regex will change from True to False in a future version.\n",
            "  df['review_body']=df['review_body'].str.replace(r'[^\\w\\s]+', '')\n",
            "<ipython-input-38-8ab4152a84fe>:3: FutureWarning: The default value of regex will change from True to False in a future version.\n",
            "  df['product_title']=df['product_title'].str.replace(r'[^\\w\\s]+', '')\n"
          ]
        }
      ],
      "source": [
        "# Removing Punctuations:\n",
        "df['review_body']=df['review_body'].str.replace(r'[^\\w\\s]+', '')\n",
        "df['product_title']=df['product_title'].str.replace(r'[^\\w\\s]+', '')"
      ]
    },
    {
      "cell_type": "code",
      "execution_count": null,
      "metadata": {
        "id": "QoPB0AruoeHY"
      },
      "outputs": [],
      "source": [
        "# Remove Whitespace\n",
        "df['review_body']=df['review_body'].str.strip()\n",
        "df['product_title']=df['product_title'].str.strip()"
      ]
    },
    {
      "cell_type": "code",
      "execution_count": null,
      "metadata": {
        "colab": {
          "base_uri": "https://localhost:8080/"
        },
        "id": "01TEl6_xogo8",
        "outputId": "e8deb5d3-1fe0-4498-bc42-f3af95d875b5"
      },
      "outputs": [
        {
          "output_type": "stream",
          "name": "stderr",
          "text": [
            "[nltk_data] Downloading package punkt to /root/nltk_data...\n",
            "[nltk_data]   Unzipping tokenizers/punkt.zip.\n",
            "[nltk_data] Downloading package wordnet to /root/nltk_data...\n",
            "[nltk_data] Downloading package stopwords to /root/nltk_data...\n",
            "[nltk_data]   Unzipping corpora/stopwords.zip.\n"
          ]
        },
        {
          "output_type": "execute_result",
          "data": {
            "text/plain": [
              "True"
            ]
          },
          "metadata": {},
          "execution_count": 40
        }
      ],
      "source": [
        "nltk.download('punkt')\n",
        "nltk.download('wordnet')\n",
        "nltk.download('stopwords')"
      ]
    },
    {
      "cell_type": "code",
      "execution_count": null,
      "metadata": {
        "id": "Ed0fC-n1zHmT"
      },
      "outputs": [],
      "source": [
        "#df['review_body'] = df.apply(lambda row: nltk.word_tokenize(row['review_body']), axis=1)\n",
        "df[\"review_body\"]=list(map(word_tokenize, df[\"review_body\"]))\n",
        "df[\"product_title\"]=list(map(word_tokenize, df[\"product_title\"]))"
      ]
    },
    {
      "cell_type": "code",
      "execution_count": null,
      "metadata": {
        "id": "f66RQc_dojnI"
      },
      "outputs": [],
      "source": [
        "# Remove Stopwords\n",
        "\n",
        "stop = stopwords.words('english')\n",
        "def remove_stopwords(text):\n",
        "    output= [i for i in text if i not in stop]\n",
        "    return output\n",
        "\n",
        "df['review_body']= df['review_body'].apply(lambda x:remove_stopwords(x))\n",
        "df['product_title']= df['product_title'].apply(lambda x:remove_stopwords(x))"
      ]
    },
    {
      "cell_type": "code",
      "execution_count": null,
      "metadata": {
        "colab": {
          "base_uri": "https://localhost:8080/"
        },
        "id": "xo7dAzyv02BD",
        "outputId": "a66f772c-5060-4626-aa13-06a4cf26d6d2"
      },
      "outputs": [
        {
          "output_type": "execute_result",
          "data": {
            "text/plain": [
              "0       [cravings, place, chocolate, chunk, cookie, mi...\n",
              "1           [mauna, loa, macadamias, 11, ounce, packages]\n",
              "2       [organic, matcha, green, tea, powder, 100, pur...\n",
              "3       [15oz, raspberry, lyons, designer, dessert, sy...\n",
              "4       [stride, spark, kinetic, fruit, sugar, free, g...\n",
              "                              ...                        \n",
              "9995    [farmdirect, 100, kona, coffee, dark, roast, w...\n",
              "9996                          [stonewall, kitchen, sauce]\n",
              "9997    [hawaiian, punch, berry, blue, typhoon, 128oun...\n",
              "9998    [provence, epice, provence, herbs, france, lar...\n",
              "9999                 [body, parts, gummy, candy, 3, pack]\n",
              "Name: product_title, Length: 9998, dtype: object"
            ]
          },
          "metadata": {},
          "execution_count": 43
        }
      ],
      "source": [
        "df['product_title']"
      ]
    },
    {
      "cell_type": "code",
      "execution_count": null,
      "metadata": {
        "id": "gl6lKpkE8Lyy"
      },
      "outputs": [],
      "source": [
        "w_tokenizer = nltk.tokenize.WhitespaceTokenizer()\n",
        "lemmatizer = nltk.stem.WordNetLemmatizer()\n",
        "\n",
        "def lemmatize_text(text):\n",
        "    return [lemmatizer.lemmatize(word) for word in text]\n",
        "\n",
        "df['review_body'] =df['review_body'].apply(lambda x:lemmatize_text(x))\n",
        "df['product_title'] =df['product_title'].apply(lambda x:lemmatize_text(x))"
      ]
    },
    {
      "cell_type": "code",
      "execution_count": null,
      "metadata": {
        "colab": {
          "base_uri": "https://localhost:8080/",
          "height": 1000
        },
        "id": "mZRj2xCX1r1Z",
        "outputId": "dbc9f69f-425e-4d5e-e9c0-3ae4d9cb41de"
      },
      "outputs": [
        {
          "output_type": "execute_result",
          "data": {
            "text/plain": [
              "     marketplace  customer_id       review_id  product_id  product_parent  \\\n",
              "0             US     42521656  R26MV8D0KG6QI6  B000SAQCWC       159713740   \n",
              "1             US     12049833  R1OF8GP57AQ1A0  B00509LVIQ       138680402   \n",
              "2             US       107642  R3VDC1QB6MC4ZZ  B00KHXESLC       252021703   \n",
              "3             US      6042304  R12FA3DCF8F9ER  B000F8JIIC       752728342   \n",
              "4             US     18123821   RTWHVNV6X4CNJ  B004ZWR9RQ       552138758   \n",
              "...          ...          ...             ...         ...             ...   \n",
              "9995          US     18423497  R1AYN0EGNZY898  B003Q3EYVO       946201884   \n",
              "9996          US     15676025   RP1U62EKOFMOT  B004D03WCG       695987685   \n",
              "9997          US     19638218  R1MVDG6C173V3C  B004FEGLLO       493740672   \n",
              "9998          US     51274903  R2O1TZ2JXWXDE6  B004B7C524       873009722   \n",
              "9999          US     45220881  R2UHBQQSXKCF5Y  B00NJXA2EE       314822672   \n",
              "\n",
              "                                          product_title product_category  \\\n",
              "0     [craving, place, chocolate, chunk, cookie, mix...          Grocery   \n",
              "1           [mauna, loa, macadamia, 11, ounce, package]          Grocery   \n",
              "2     [organic, matcha, green, tea, powder, 100, pur...          Grocery   \n",
              "3     [15oz, raspberry, lyon, designer, dessert, syr...          Grocery   \n",
              "4     [stride, spark, kinetic, fruit, sugar, free, g...          Grocery   \n",
              "...                                                 ...              ...   \n",
              "9995  [farmdirect, 100, kona, coffee, dark, roast, w...          Grocery   \n",
              "9996                        [stonewall, kitchen, sauce]          Grocery   \n",
              "9997  [hawaiian, punch, berry, blue, typhoon, 128oun...          Grocery   \n",
              "9998  [provence, epice, provence, herb, france, larg...          Grocery   \n",
              "9999                [body, part, gummy, candy, 3, pack]          Grocery   \n",
              "\n",
              "      star_rating  helpful_votes  total_votes vine verified_purchase  \\\n",
              "0               5            0.0          0.0    N                 Y   \n",
              "1               5            0.0          0.0    N                 Y   \n",
              "2               5            0.0          0.0    N                 N   \n",
              "3               5            0.0          0.0    N                 Y   \n",
              "4               5            0.0          0.0    N                 Y   \n",
              "...           ...            ...          ...  ...               ...   \n",
              "9995            5            0.0          0.0    N                 Y   \n",
              "9996            5            0.0          0.0    N                 Y   \n",
              "9997            5            0.0          0.0    N                 Y   \n",
              "9998            4            0.0          0.0    N                 Y   \n",
              "9999            2            0.0          0.0    N                 Y   \n",
              "\n",
              "                              review_headline  \\\n",
              "0          Using these for years - love them.   \n",
              "1                                   Wonderful   \n",
              "2                                  Five Stars   \n",
              "3                                  Five Stars   \n",
              "4                                  Five Stars   \n",
              "...                                       ...   \n",
              "9995                               Five Stars   \n",
              "9996  Choca-holics rejoice!  Love this stuff!   \n",
              "9997                               Five Stars   \n",
              "9998           Put it on  NY Strip?  You win!   \n",
              "9999                      NOT worth the money   \n",
              "\n",
              "                                            review_body review_date  sentiment  \n",
              "0     [family, allergic, wheat, dairy, egg, nut, sev...  2015-08-31     0.8096  \n",
              "1     [favorite, nut, creamy, crunchy, salty, slight...  2015-08-31     0.6915  \n",
              "2           [green, tea, taste, good, girlfriend, love]  2015-08-31     0.8286  \n",
              "3     [love, melissa, brand, great, second, cant, ge...  2015-08-31     0.8500  \n",
              "4                                                [good]  2015-08-31     0.4404  \n",
              "...                                                 ...         ...        ...  \n",
              "9995  [love, medium, dark, roast, always, happy, blu...  2015-08-28     0.8360  \n",
              "9996  [always, top, line, chocolate, sauce, oh, remi...  2015-08-28     0.9022  \n",
              "9997                               [thanks, good, item]  2015-08-28     0.7003  \n",
              "9998  [salt, pepper, herbe, de, provence, ny, strip,...  2015-08-28     0.0000  \n",
              "9999  [disappointed, 6, finger, 4, red, blob, guess,...  2015-08-28    -0.3311  \n",
              "\n",
              "[9998 rows x 16 columns]"
            ],
            "text/html": [
              "\n",
              "  <div id=\"df-0d3e9237-e40a-4f57-ac90-8015c4c6414c\">\n",
              "    <div class=\"colab-df-container\">\n",
              "      <div>\n",
              "<style scoped>\n",
              "    .dataframe tbody tr th:only-of-type {\n",
              "        vertical-align: middle;\n",
              "    }\n",
              "\n",
              "    .dataframe tbody tr th {\n",
              "        vertical-align: top;\n",
              "    }\n",
              "\n",
              "    .dataframe thead th {\n",
              "        text-align: right;\n",
              "    }\n",
              "</style>\n",
              "<table border=\"1\" class=\"dataframe\">\n",
              "  <thead>\n",
              "    <tr style=\"text-align: right;\">\n",
              "      <th></th>\n",
              "      <th>marketplace</th>\n",
              "      <th>customer_id</th>\n",
              "      <th>review_id</th>\n",
              "      <th>product_id</th>\n",
              "      <th>product_parent</th>\n",
              "      <th>product_title</th>\n",
              "      <th>product_category</th>\n",
              "      <th>star_rating</th>\n",
              "      <th>helpful_votes</th>\n",
              "      <th>total_votes</th>\n",
              "      <th>vine</th>\n",
              "      <th>verified_purchase</th>\n",
              "      <th>review_headline</th>\n",
              "      <th>review_body</th>\n",
              "      <th>review_date</th>\n",
              "      <th>sentiment</th>\n",
              "    </tr>\n",
              "  </thead>\n",
              "  <tbody>\n",
              "    <tr>\n",
              "      <th>0</th>\n",
              "      <td>US</td>\n",
              "      <td>42521656</td>\n",
              "      <td>R26MV8D0KG6QI6</td>\n",
              "      <td>B000SAQCWC</td>\n",
              "      <td>159713740</td>\n",
              "      <td>[craving, place, chocolate, chunk, cookie, mix...</td>\n",
              "      <td>Grocery</td>\n",
              "      <td>5</td>\n",
              "      <td>0.0</td>\n",
              "      <td>0.0</td>\n",
              "      <td>N</td>\n",
              "      <td>Y</td>\n",
              "      <td>Using these for years - love them.</td>\n",
              "      <td>[family, allergic, wheat, dairy, egg, nut, sev...</td>\n",
              "      <td>2015-08-31</td>\n",
              "      <td>0.8096</td>\n",
              "    </tr>\n",
              "    <tr>\n",
              "      <th>1</th>\n",
              "      <td>US</td>\n",
              "      <td>12049833</td>\n",
              "      <td>R1OF8GP57AQ1A0</td>\n",
              "      <td>B00509LVIQ</td>\n",
              "      <td>138680402</td>\n",
              "      <td>[mauna, loa, macadamia, 11, ounce, package]</td>\n",
              "      <td>Grocery</td>\n",
              "      <td>5</td>\n",
              "      <td>0.0</td>\n",
              "      <td>0.0</td>\n",
              "      <td>N</td>\n",
              "      <td>Y</td>\n",
              "      <td>Wonderful</td>\n",
              "      <td>[favorite, nut, creamy, crunchy, salty, slight...</td>\n",
              "      <td>2015-08-31</td>\n",
              "      <td>0.6915</td>\n",
              "    </tr>\n",
              "    <tr>\n",
              "      <th>2</th>\n",
              "      <td>US</td>\n",
              "      <td>107642</td>\n",
              "      <td>R3VDC1QB6MC4ZZ</td>\n",
              "      <td>B00KHXESLC</td>\n",
              "      <td>252021703</td>\n",
              "      <td>[organic, matcha, green, tea, powder, 100, pur...</td>\n",
              "      <td>Grocery</td>\n",
              "      <td>5</td>\n",
              "      <td>0.0</td>\n",
              "      <td>0.0</td>\n",
              "      <td>N</td>\n",
              "      <td>N</td>\n",
              "      <td>Five Stars</td>\n",
              "      <td>[green, tea, taste, good, girlfriend, love]</td>\n",
              "      <td>2015-08-31</td>\n",
              "      <td>0.8286</td>\n",
              "    </tr>\n",
              "    <tr>\n",
              "      <th>3</th>\n",
              "      <td>US</td>\n",
              "      <td>6042304</td>\n",
              "      <td>R12FA3DCF8F9ER</td>\n",
              "      <td>B000F8JIIC</td>\n",
              "      <td>752728342</td>\n",
              "      <td>[15oz, raspberry, lyon, designer, dessert, syr...</td>\n",
              "      <td>Grocery</td>\n",
              "      <td>5</td>\n",
              "      <td>0.0</td>\n",
              "      <td>0.0</td>\n",
              "      <td>N</td>\n",
              "      <td>Y</td>\n",
              "      <td>Five Stars</td>\n",
              "      <td>[love, melissa, brand, great, second, cant, ge...</td>\n",
              "      <td>2015-08-31</td>\n",
              "      <td>0.8500</td>\n",
              "    </tr>\n",
              "    <tr>\n",
              "      <th>4</th>\n",
              "      <td>US</td>\n",
              "      <td>18123821</td>\n",
              "      <td>RTWHVNV6X4CNJ</td>\n",
              "      <td>B004ZWR9RQ</td>\n",
              "      <td>552138758</td>\n",
              "      <td>[stride, spark, kinetic, fruit, sugar, free, g...</td>\n",
              "      <td>Grocery</td>\n",
              "      <td>5</td>\n",
              "      <td>0.0</td>\n",
              "      <td>0.0</td>\n",
              "      <td>N</td>\n",
              "      <td>Y</td>\n",
              "      <td>Five Stars</td>\n",
              "      <td>[good]</td>\n",
              "      <td>2015-08-31</td>\n",
              "      <td>0.4404</td>\n",
              "    </tr>\n",
              "    <tr>\n",
              "      <th>...</th>\n",
              "      <td>...</td>\n",
              "      <td>...</td>\n",
              "      <td>...</td>\n",
              "      <td>...</td>\n",
              "      <td>...</td>\n",
              "      <td>...</td>\n",
              "      <td>...</td>\n",
              "      <td>...</td>\n",
              "      <td>...</td>\n",
              "      <td>...</td>\n",
              "      <td>...</td>\n",
              "      <td>...</td>\n",
              "      <td>...</td>\n",
              "      <td>...</td>\n",
              "      <td>...</td>\n",
              "      <td>...</td>\n",
              "    </tr>\n",
              "    <tr>\n",
              "      <th>9995</th>\n",
              "      <td>US</td>\n",
              "      <td>18423497</td>\n",
              "      <td>R1AYN0EGNZY898</td>\n",
              "      <td>B003Q3EYVO</td>\n",
              "      <td>946201884</td>\n",
              "      <td>[farmdirect, 100, kona, coffee, dark, roast, w...</td>\n",
              "      <td>Grocery</td>\n",
              "      <td>5</td>\n",
              "      <td>0.0</td>\n",
              "      <td>0.0</td>\n",
              "      <td>N</td>\n",
              "      <td>Y</td>\n",
              "      <td>Five Stars</td>\n",
              "      <td>[love, medium, dark, roast, always, happy, blu...</td>\n",
              "      <td>2015-08-28</td>\n",
              "      <td>0.8360</td>\n",
              "    </tr>\n",
              "    <tr>\n",
              "      <th>9996</th>\n",
              "      <td>US</td>\n",
              "      <td>15676025</td>\n",
              "      <td>RP1U62EKOFMOT</td>\n",
              "      <td>B004D03WCG</td>\n",
              "      <td>695987685</td>\n",
              "      <td>[stonewall, kitchen, sauce]</td>\n",
              "      <td>Grocery</td>\n",
              "      <td>5</td>\n",
              "      <td>0.0</td>\n",
              "      <td>0.0</td>\n",
              "      <td>N</td>\n",
              "      <td>Y</td>\n",
              "      <td>Choca-holics rejoice!  Love this stuff!</td>\n",
              "      <td>[always, top, line, chocolate, sauce, oh, remi...</td>\n",
              "      <td>2015-08-28</td>\n",
              "      <td>0.9022</td>\n",
              "    </tr>\n",
              "    <tr>\n",
              "      <th>9997</th>\n",
              "      <td>US</td>\n",
              "      <td>19638218</td>\n",
              "      <td>R1MVDG6C173V3C</td>\n",
              "      <td>B004FEGLLO</td>\n",
              "      <td>493740672</td>\n",
              "      <td>[hawaiian, punch, berry, blue, typhoon, 128oun...</td>\n",
              "      <td>Grocery</td>\n",
              "      <td>5</td>\n",
              "      <td>0.0</td>\n",
              "      <td>0.0</td>\n",
              "      <td>N</td>\n",
              "      <td>Y</td>\n",
              "      <td>Five Stars</td>\n",
              "      <td>[thanks, good, item]</td>\n",
              "      <td>2015-08-28</td>\n",
              "      <td>0.7003</td>\n",
              "    </tr>\n",
              "    <tr>\n",
              "      <th>9998</th>\n",
              "      <td>US</td>\n",
              "      <td>51274903</td>\n",
              "      <td>R2O1TZ2JXWXDE6</td>\n",
              "      <td>B004B7C524</td>\n",
              "      <td>873009722</td>\n",
              "      <td>[provence, epice, provence, herb, france, larg...</td>\n",
              "      <td>Grocery</td>\n",
              "      <td>4</td>\n",
              "      <td>0.0</td>\n",
              "      <td>0.0</td>\n",
              "      <td>N</td>\n",
              "      <td>Y</td>\n",
              "      <td>Put it on  NY Strip?  You win!</td>\n",
              "      <td>[salt, pepper, herbe, de, provence, ny, strip,...</td>\n",
              "      <td>2015-08-28</td>\n",
              "      <td>0.0000</td>\n",
              "    </tr>\n",
              "    <tr>\n",
              "      <th>9999</th>\n",
              "      <td>US</td>\n",
              "      <td>45220881</td>\n",
              "      <td>R2UHBQQSXKCF5Y</td>\n",
              "      <td>B00NJXA2EE</td>\n",
              "      <td>314822672</td>\n",
              "      <td>[body, part, gummy, candy, 3, pack]</td>\n",
              "      <td>Grocery</td>\n",
              "      <td>2</td>\n",
              "      <td>0.0</td>\n",
              "      <td>0.0</td>\n",
              "      <td>N</td>\n",
              "      <td>Y</td>\n",
              "      <td>NOT worth the money</td>\n",
              "      <td>[disappointed, 6, finger, 4, red, blob, guess,...</td>\n",
              "      <td>2015-08-28</td>\n",
              "      <td>-0.3311</td>\n",
              "    </tr>\n",
              "  </tbody>\n",
              "</table>\n",
              "<p>9998 rows × 16 columns</p>\n",
              "</div>\n",
              "      <button class=\"colab-df-convert\" onclick=\"convertToInteractive('df-0d3e9237-e40a-4f57-ac90-8015c4c6414c')\"\n",
              "              title=\"Convert this dataframe to an interactive table.\"\n",
              "              style=\"display:none;\">\n",
              "        \n",
              "  <svg xmlns=\"http://www.w3.org/2000/svg\" height=\"24px\"viewBox=\"0 0 24 24\"\n",
              "       width=\"24px\">\n",
              "    <path d=\"M0 0h24v24H0V0z\" fill=\"none\"/>\n",
              "    <path d=\"M18.56 5.44l.94 2.06.94-2.06 2.06-.94-2.06-.94-.94-2.06-.94 2.06-2.06.94zm-11 1L8.5 8.5l.94-2.06 2.06-.94-2.06-.94L8.5 2.5l-.94 2.06-2.06.94zm10 10l.94 2.06.94-2.06 2.06-.94-2.06-.94-.94-2.06-.94 2.06-2.06.94z\"/><path d=\"M17.41 7.96l-1.37-1.37c-.4-.4-.92-.59-1.43-.59-.52 0-1.04.2-1.43.59L10.3 9.45l-7.72 7.72c-.78.78-.78 2.05 0 2.83L4 21.41c.39.39.9.59 1.41.59.51 0 1.02-.2 1.41-.59l7.78-7.78 2.81-2.81c.8-.78.8-2.07 0-2.86zM5.41 20L4 18.59l7.72-7.72 1.47 1.35L5.41 20z\"/>\n",
              "  </svg>\n",
              "      </button>\n",
              "      \n",
              "  <style>\n",
              "    .colab-df-container {\n",
              "      display:flex;\n",
              "      flex-wrap:wrap;\n",
              "      gap: 12px;\n",
              "    }\n",
              "\n",
              "    .colab-df-convert {\n",
              "      background-color: #E8F0FE;\n",
              "      border: none;\n",
              "      border-radius: 50%;\n",
              "      cursor: pointer;\n",
              "      display: none;\n",
              "      fill: #1967D2;\n",
              "      height: 32px;\n",
              "      padding: 0 0 0 0;\n",
              "      width: 32px;\n",
              "    }\n",
              "\n",
              "    .colab-df-convert:hover {\n",
              "      background-color: #E2EBFA;\n",
              "      box-shadow: 0px 1px 2px rgba(60, 64, 67, 0.3), 0px 1px 3px 1px rgba(60, 64, 67, 0.15);\n",
              "      fill: #174EA6;\n",
              "    }\n",
              "\n",
              "    [theme=dark] .colab-df-convert {\n",
              "      background-color: #3B4455;\n",
              "      fill: #D2E3FC;\n",
              "    }\n",
              "\n",
              "    [theme=dark] .colab-df-convert:hover {\n",
              "      background-color: #434B5C;\n",
              "      box-shadow: 0px 1px 3px 1px rgba(0, 0, 0, 0.15);\n",
              "      filter: drop-shadow(0px 1px 2px rgba(0, 0, 0, 0.3));\n",
              "      fill: #FFFFFF;\n",
              "    }\n",
              "  </style>\n",
              "\n",
              "      <script>\n",
              "        const buttonEl =\n",
              "          document.querySelector('#df-0d3e9237-e40a-4f57-ac90-8015c4c6414c button.colab-df-convert');\n",
              "        buttonEl.style.display =\n",
              "          google.colab.kernel.accessAllowed ? 'block' : 'none';\n",
              "\n",
              "        async function convertToInteractive(key) {\n",
              "          const element = document.querySelector('#df-0d3e9237-e40a-4f57-ac90-8015c4c6414c');\n",
              "          const dataTable =\n",
              "            await google.colab.kernel.invokeFunction('convertToInteractive',\n",
              "                                                     [key], {});\n",
              "          if (!dataTable) return;\n",
              "\n",
              "          const docLinkHtml = 'Like what you see? Visit the ' +\n",
              "            '<a target=\"_blank\" href=https://colab.research.google.com/notebooks/data_table.ipynb>data table notebook</a>'\n",
              "            + ' to learn more about interactive tables.';\n",
              "          element.innerHTML = '';\n",
              "          dataTable['output_type'] = 'display_data';\n",
              "          await google.colab.output.renderOutput(dataTable, element);\n",
              "          const docLink = document.createElement('div');\n",
              "          docLink.innerHTML = docLinkHtml;\n",
              "          element.appendChild(docLink);\n",
              "        }\n",
              "      </script>\n",
              "    </div>\n",
              "  </div>\n",
              "  "
            ]
          },
          "metadata": {},
          "execution_count": 45
        }
      ],
      "source": [
        "df\n"
      ]
    },
    {
      "cell_type": "markdown",
      "metadata": {
        "id": "akdbpnAoA1Qe"
      },
      "source": [
        "#**Negihborhood based Collabarative Filtering**"
      ]
    },
    {
      "cell_type": "markdown",
      "metadata": {
        "id": "dGyO9HS1A7eG"
      },
      "source": [
        "#1) Memory/Neighbourhood Based Collabarative Filtering"
      ]
    },
    {
      "cell_type": "code",
      "execution_count": null,
      "metadata": {
        "id": "q-sxa87nLsWd"
      },
      "outputs": [],
      "source": [
        "user_item_matrix = df.pivot_table(index='customer_id', columns='product_id', values='star_rating')\n",
        "#index, column, value"
      ]
    },
    {
      "cell_type": "code",
      "execution_count": null,
      "metadata": {
        "colab": {
          "base_uri": "https://localhost:8080/",
          "height": 519
        },
        "id": "6MoqTT0OL4Mz",
        "outputId": "92fe508b-135e-4015-c2ff-d5e68ac177e7"
      },
      "outputs": [
        {
          "output_type": "execute_result",
          "data": {
            "text/plain": [
              "product_id   3334353648  4639725418  B0000531B7  B000063D0C  B00006IUTN  \\\n",
              "customer_id                                                               \n",
              "19877               NaN         NaN         NaN         NaN         NaN   \n",
              "20519               NaN         NaN         NaN         NaN         NaN   \n",
              "22475               NaN         NaN         NaN         NaN         NaN   \n",
              "37119               NaN         NaN         NaN         NaN         NaN   \n",
              "41717               NaN         NaN         NaN         NaN         NaN   \n",
              "...                 ...         ...         ...         ...         ...   \n",
              "53081331            NaN         NaN         NaN         NaN         NaN   \n",
              "53089262            NaN         NaN         NaN         NaN         NaN   \n",
              "53090839            NaN         NaN         NaN         NaN         NaN   \n",
              "53093920            NaN         NaN         NaN         NaN         NaN   \n",
              "53094950            NaN         NaN         NaN         NaN         NaN   \n",
              "\n",
              "product_id   B00008CQRK  B0000CCZYT  B0000CDBPT  B0000CEQ6H  B0000CERYV  ...  \\\n",
              "customer_id                                                              ...   \n",
              "19877               NaN         NaN         NaN         NaN         NaN  ...   \n",
              "20519               NaN         NaN         NaN         NaN         NaN  ...   \n",
              "22475               NaN         NaN         NaN         NaN         NaN  ...   \n",
              "37119               NaN         NaN         NaN         NaN         NaN  ...   \n",
              "41717               NaN         NaN         NaN         NaN         NaN  ...   \n",
              "...                 ...         ...         ...         ...         ...  ...   \n",
              "53081331            NaN         NaN         NaN         NaN         NaN  ...   \n",
              "53089262            NaN         NaN         NaN         NaN         NaN  ...   \n",
              "53090839            NaN         NaN         NaN         NaN         NaN  ...   \n",
              "53093920            NaN         NaN         NaN         NaN         NaN  ...   \n",
              "53094950            NaN         NaN         NaN         NaN         NaN  ...   \n",
              "\n",
              "product_id   B013YH1POU  B013Z565IC  B0140324OW  B0141KONH0  B0142KDXRU  \\\n",
              "customer_id                                                               \n",
              "19877               NaN         NaN         NaN         NaN         NaN   \n",
              "20519               NaN         NaN         NaN         NaN         NaN   \n",
              "22475               NaN         NaN         NaN         NaN         NaN   \n",
              "37119               NaN         NaN         NaN         NaN         NaN   \n",
              "41717               NaN         NaN         NaN         NaN         NaN   \n",
              "...                 ...         ...         ...         ...         ...   \n",
              "53081331            NaN         NaN         NaN         NaN         NaN   \n",
              "53089262            NaN         NaN         NaN         NaN         NaN   \n",
              "53090839            NaN         NaN         NaN         NaN         NaN   \n",
              "53093920            NaN         NaN         NaN         NaN         NaN   \n",
              "53094950            NaN         NaN         NaN         NaN         NaN   \n",
              "\n",
              "product_id   B0143M04XI  B014537Q6S  B014692KFS  B014E26EPO  B014I1QPLE  \n",
              "customer_id                                                              \n",
              "19877               NaN         NaN         NaN         NaN         NaN  \n",
              "20519               NaN         NaN         NaN         NaN         NaN  \n",
              "22475               NaN         NaN         NaN         NaN         NaN  \n",
              "37119               NaN         NaN         NaN         NaN         NaN  \n",
              "41717               NaN         NaN         NaN         NaN         NaN  \n",
              "...                 ...         ...         ...         ...         ...  \n",
              "53081331            NaN         NaN         NaN         NaN         NaN  \n",
              "53089262            NaN         NaN         NaN         NaN         NaN  \n",
              "53090839            NaN         NaN         NaN         NaN         NaN  \n",
              "53093920            NaN         NaN         NaN         NaN         NaN  \n",
              "53094950            NaN         NaN         NaN         NaN         NaN  \n",
              "\n",
              "[7916 rows x 7917 columns]"
            ],
            "text/html": [
              "\n",
              "  <div id=\"df-bdabfef0-7fee-40fa-a53b-fcc9002907be\">\n",
              "    <div class=\"colab-df-container\">\n",
              "      <div>\n",
              "<style scoped>\n",
              "    .dataframe tbody tr th:only-of-type {\n",
              "        vertical-align: middle;\n",
              "    }\n",
              "\n",
              "    .dataframe tbody tr th {\n",
              "        vertical-align: top;\n",
              "    }\n",
              "\n",
              "    .dataframe thead th {\n",
              "        text-align: right;\n",
              "    }\n",
              "</style>\n",
              "<table border=\"1\" class=\"dataframe\">\n",
              "  <thead>\n",
              "    <tr style=\"text-align: right;\">\n",
              "      <th>product_id</th>\n",
              "      <th>3334353648</th>\n",
              "      <th>4639725418</th>\n",
              "      <th>B0000531B7</th>\n",
              "      <th>B000063D0C</th>\n",
              "      <th>B00006IUTN</th>\n",
              "      <th>B00008CQRK</th>\n",
              "      <th>B0000CCZYT</th>\n",
              "      <th>B0000CDBPT</th>\n",
              "      <th>B0000CEQ6H</th>\n",
              "      <th>B0000CERYV</th>\n",
              "      <th>...</th>\n",
              "      <th>B013YH1POU</th>\n",
              "      <th>B013Z565IC</th>\n",
              "      <th>B0140324OW</th>\n",
              "      <th>B0141KONH0</th>\n",
              "      <th>B0142KDXRU</th>\n",
              "      <th>B0143M04XI</th>\n",
              "      <th>B014537Q6S</th>\n",
              "      <th>B014692KFS</th>\n",
              "      <th>B014E26EPO</th>\n",
              "      <th>B014I1QPLE</th>\n",
              "    </tr>\n",
              "    <tr>\n",
              "      <th>customer_id</th>\n",
              "      <th></th>\n",
              "      <th></th>\n",
              "      <th></th>\n",
              "      <th></th>\n",
              "      <th></th>\n",
              "      <th></th>\n",
              "      <th></th>\n",
              "      <th></th>\n",
              "      <th></th>\n",
              "      <th></th>\n",
              "      <th></th>\n",
              "      <th></th>\n",
              "      <th></th>\n",
              "      <th></th>\n",
              "      <th></th>\n",
              "      <th></th>\n",
              "      <th></th>\n",
              "      <th></th>\n",
              "      <th></th>\n",
              "      <th></th>\n",
              "      <th></th>\n",
              "    </tr>\n",
              "  </thead>\n",
              "  <tbody>\n",
              "    <tr>\n",
              "      <th>19877</th>\n",
              "      <td>NaN</td>\n",
              "      <td>NaN</td>\n",
              "      <td>NaN</td>\n",
              "      <td>NaN</td>\n",
              "      <td>NaN</td>\n",
              "      <td>NaN</td>\n",
              "      <td>NaN</td>\n",
              "      <td>NaN</td>\n",
              "      <td>NaN</td>\n",
              "      <td>NaN</td>\n",
              "      <td>...</td>\n",
              "      <td>NaN</td>\n",
              "      <td>NaN</td>\n",
              "      <td>NaN</td>\n",
              "      <td>NaN</td>\n",
              "      <td>NaN</td>\n",
              "      <td>NaN</td>\n",
              "      <td>NaN</td>\n",
              "      <td>NaN</td>\n",
              "      <td>NaN</td>\n",
              "      <td>NaN</td>\n",
              "    </tr>\n",
              "    <tr>\n",
              "      <th>20519</th>\n",
              "      <td>NaN</td>\n",
              "      <td>NaN</td>\n",
              "      <td>NaN</td>\n",
              "      <td>NaN</td>\n",
              "      <td>NaN</td>\n",
              "      <td>NaN</td>\n",
              "      <td>NaN</td>\n",
              "      <td>NaN</td>\n",
              "      <td>NaN</td>\n",
              "      <td>NaN</td>\n",
              "      <td>...</td>\n",
              "      <td>NaN</td>\n",
              "      <td>NaN</td>\n",
              "      <td>NaN</td>\n",
              "      <td>NaN</td>\n",
              "      <td>NaN</td>\n",
              "      <td>NaN</td>\n",
              "      <td>NaN</td>\n",
              "      <td>NaN</td>\n",
              "      <td>NaN</td>\n",
              "      <td>NaN</td>\n",
              "    </tr>\n",
              "    <tr>\n",
              "      <th>22475</th>\n",
              "      <td>NaN</td>\n",
              "      <td>NaN</td>\n",
              "      <td>NaN</td>\n",
              "      <td>NaN</td>\n",
              "      <td>NaN</td>\n",
              "      <td>NaN</td>\n",
              "      <td>NaN</td>\n",
              "      <td>NaN</td>\n",
              "      <td>NaN</td>\n",
              "      <td>NaN</td>\n",
              "      <td>...</td>\n",
              "      <td>NaN</td>\n",
              "      <td>NaN</td>\n",
              "      <td>NaN</td>\n",
              "      <td>NaN</td>\n",
              "      <td>NaN</td>\n",
              "      <td>NaN</td>\n",
              "      <td>NaN</td>\n",
              "      <td>NaN</td>\n",
              "      <td>NaN</td>\n",
              "      <td>NaN</td>\n",
              "    </tr>\n",
              "    <tr>\n",
              "      <th>37119</th>\n",
              "      <td>NaN</td>\n",
              "      <td>NaN</td>\n",
              "      <td>NaN</td>\n",
              "      <td>NaN</td>\n",
              "      <td>NaN</td>\n",
              "      <td>NaN</td>\n",
              "      <td>NaN</td>\n",
              "      <td>NaN</td>\n",
              "      <td>NaN</td>\n",
              "      <td>NaN</td>\n",
              "      <td>...</td>\n",
              "      <td>NaN</td>\n",
              "      <td>NaN</td>\n",
              "      <td>NaN</td>\n",
              "      <td>NaN</td>\n",
              "      <td>NaN</td>\n",
              "      <td>NaN</td>\n",
              "      <td>NaN</td>\n",
              "      <td>NaN</td>\n",
              "      <td>NaN</td>\n",
              "      <td>NaN</td>\n",
              "    </tr>\n",
              "    <tr>\n",
              "      <th>41717</th>\n",
              "      <td>NaN</td>\n",
              "      <td>NaN</td>\n",
              "      <td>NaN</td>\n",
              "      <td>NaN</td>\n",
              "      <td>NaN</td>\n",
              "      <td>NaN</td>\n",
              "      <td>NaN</td>\n",
              "      <td>NaN</td>\n",
              "      <td>NaN</td>\n",
              "      <td>NaN</td>\n",
              "      <td>...</td>\n",
              "      <td>NaN</td>\n",
              "      <td>NaN</td>\n",
              "      <td>NaN</td>\n",
              "      <td>NaN</td>\n",
              "      <td>NaN</td>\n",
              "      <td>NaN</td>\n",
              "      <td>NaN</td>\n",
              "      <td>NaN</td>\n",
              "      <td>NaN</td>\n",
              "      <td>NaN</td>\n",
              "    </tr>\n",
              "    <tr>\n",
              "      <th>...</th>\n",
              "      <td>...</td>\n",
              "      <td>...</td>\n",
              "      <td>...</td>\n",
              "      <td>...</td>\n",
              "      <td>...</td>\n",
              "      <td>...</td>\n",
              "      <td>...</td>\n",
              "      <td>...</td>\n",
              "      <td>...</td>\n",
              "      <td>...</td>\n",
              "      <td>...</td>\n",
              "      <td>...</td>\n",
              "      <td>...</td>\n",
              "      <td>...</td>\n",
              "      <td>...</td>\n",
              "      <td>...</td>\n",
              "      <td>...</td>\n",
              "      <td>...</td>\n",
              "      <td>...</td>\n",
              "      <td>...</td>\n",
              "      <td>...</td>\n",
              "    </tr>\n",
              "    <tr>\n",
              "      <th>53081331</th>\n",
              "      <td>NaN</td>\n",
              "      <td>NaN</td>\n",
              "      <td>NaN</td>\n",
              "      <td>NaN</td>\n",
              "      <td>NaN</td>\n",
              "      <td>NaN</td>\n",
              "      <td>NaN</td>\n",
              "      <td>NaN</td>\n",
              "      <td>NaN</td>\n",
              "      <td>NaN</td>\n",
              "      <td>...</td>\n",
              "      <td>NaN</td>\n",
              "      <td>NaN</td>\n",
              "      <td>NaN</td>\n",
              "      <td>NaN</td>\n",
              "      <td>NaN</td>\n",
              "      <td>NaN</td>\n",
              "      <td>NaN</td>\n",
              "      <td>NaN</td>\n",
              "      <td>NaN</td>\n",
              "      <td>NaN</td>\n",
              "    </tr>\n",
              "    <tr>\n",
              "      <th>53089262</th>\n",
              "      <td>NaN</td>\n",
              "      <td>NaN</td>\n",
              "      <td>NaN</td>\n",
              "      <td>NaN</td>\n",
              "      <td>NaN</td>\n",
              "      <td>NaN</td>\n",
              "      <td>NaN</td>\n",
              "      <td>NaN</td>\n",
              "      <td>NaN</td>\n",
              "      <td>NaN</td>\n",
              "      <td>...</td>\n",
              "      <td>NaN</td>\n",
              "      <td>NaN</td>\n",
              "      <td>NaN</td>\n",
              "      <td>NaN</td>\n",
              "      <td>NaN</td>\n",
              "      <td>NaN</td>\n",
              "      <td>NaN</td>\n",
              "      <td>NaN</td>\n",
              "      <td>NaN</td>\n",
              "      <td>NaN</td>\n",
              "    </tr>\n",
              "    <tr>\n",
              "      <th>53090839</th>\n",
              "      <td>NaN</td>\n",
              "      <td>NaN</td>\n",
              "      <td>NaN</td>\n",
              "      <td>NaN</td>\n",
              "      <td>NaN</td>\n",
              "      <td>NaN</td>\n",
              "      <td>NaN</td>\n",
              "      <td>NaN</td>\n",
              "      <td>NaN</td>\n",
              "      <td>NaN</td>\n",
              "      <td>...</td>\n",
              "      <td>NaN</td>\n",
              "      <td>NaN</td>\n",
              "      <td>NaN</td>\n",
              "      <td>NaN</td>\n",
              "      <td>NaN</td>\n",
              "      <td>NaN</td>\n",
              "      <td>NaN</td>\n",
              "      <td>NaN</td>\n",
              "      <td>NaN</td>\n",
              "      <td>NaN</td>\n",
              "    </tr>\n",
              "    <tr>\n",
              "      <th>53093920</th>\n",
              "      <td>NaN</td>\n",
              "      <td>NaN</td>\n",
              "      <td>NaN</td>\n",
              "      <td>NaN</td>\n",
              "      <td>NaN</td>\n",
              "      <td>NaN</td>\n",
              "      <td>NaN</td>\n",
              "      <td>NaN</td>\n",
              "      <td>NaN</td>\n",
              "      <td>NaN</td>\n",
              "      <td>...</td>\n",
              "      <td>NaN</td>\n",
              "      <td>NaN</td>\n",
              "      <td>NaN</td>\n",
              "      <td>NaN</td>\n",
              "      <td>NaN</td>\n",
              "      <td>NaN</td>\n",
              "      <td>NaN</td>\n",
              "      <td>NaN</td>\n",
              "      <td>NaN</td>\n",
              "      <td>NaN</td>\n",
              "    </tr>\n",
              "    <tr>\n",
              "      <th>53094950</th>\n",
              "      <td>NaN</td>\n",
              "      <td>NaN</td>\n",
              "      <td>NaN</td>\n",
              "      <td>NaN</td>\n",
              "      <td>NaN</td>\n",
              "      <td>NaN</td>\n",
              "      <td>NaN</td>\n",
              "      <td>NaN</td>\n",
              "      <td>NaN</td>\n",
              "      <td>NaN</td>\n",
              "      <td>...</td>\n",
              "      <td>NaN</td>\n",
              "      <td>NaN</td>\n",
              "      <td>NaN</td>\n",
              "      <td>NaN</td>\n",
              "      <td>NaN</td>\n",
              "      <td>NaN</td>\n",
              "      <td>NaN</td>\n",
              "      <td>NaN</td>\n",
              "      <td>NaN</td>\n",
              "      <td>NaN</td>\n",
              "    </tr>\n",
              "  </tbody>\n",
              "</table>\n",
              "<p>7916 rows × 7917 columns</p>\n",
              "</div>\n",
              "      <button class=\"colab-df-convert\" onclick=\"convertToInteractive('df-bdabfef0-7fee-40fa-a53b-fcc9002907be')\"\n",
              "              title=\"Convert this dataframe to an interactive table.\"\n",
              "              style=\"display:none;\">\n",
              "        \n",
              "  <svg xmlns=\"http://www.w3.org/2000/svg\" height=\"24px\"viewBox=\"0 0 24 24\"\n",
              "       width=\"24px\">\n",
              "    <path d=\"M0 0h24v24H0V0z\" fill=\"none\"/>\n",
              "    <path d=\"M18.56 5.44l.94 2.06.94-2.06 2.06-.94-2.06-.94-.94-2.06-.94 2.06-2.06.94zm-11 1L8.5 8.5l.94-2.06 2.06-.94-2.06-.94L8.5 2.5l-.94 2.06-2.06.94zm10 10l.94 2.06.94-2.06 2.06-.94-2.06-.94-.94-2.06-.94 2.06-2.06.94z\"/><path d=\"M17.41 7.96l-1.37-1.37c-.4-.4-.92-.59-1.43-.59-.52 0-1.04.2-1.43.59L10.3 9.45l-7.72 7.72c-.78.78-.78 2.05 0 2.83L4 21.41c.39.39.9.59 1.41.59.51 0 1.02-.2 1.41-.59l7.78-7.78 2.81-2.81c.8-.78.8-2.07 0-2.86zM5.41 20L4 18.59l7.72-7.72 1.47 1.35L5.41 20z\"/>\n",
              "  </svg>\n",
              "      </button>\n",
              "      \n",
              "  <style>\n",
              "    .colab-df-container {\n",
              "      display:flex;\n",
              "      flex-wrap:wrap;\n",
              "      gap: 12px;\n",
              "    }\n",
              "\n",
              "    .colab-df-convert {\n",
              "      background-color: #E8F0FE;\n",
              "      border: none;\n",
              "      border-radius: 50%;\n",
              "      cursor: pointer;\n",
              "      display: none;\n",
              "      fill: #1967D2;\n",
              "      height: 32px;\n",
              "      padding: 0 0 0 0;\n",
              "      width: 32px;\n",
              "    }\n",
              "\n",
              "    .colab-df-convert:hover {\n",
              "      background-color: #E2EBFA;\n",
              "      box-shadow: 0px 1px 2px rgba(60, 64, 67, 0.3), 0px 1px 3px 1px rgba(60, 64, 67, 0.15);\n",
              "      fill: #174EA6;\n",
              "    }\n",
              "\n",
              "    [theme=dark] .colab-df-convert {\n",
              "      background-color: #3B4455;\n",
              "      fill: #D2E3FC;\n",
              "    }\n",
              "\n",
              "    [theme=dark] .colab-df-convert:hover {\n",
              "      background-color: #434B5C;\n",
              "      box-shadow: 0px 1px 3px 1px rgba(0, 0, 0, 0.15);\n",
              "      filter: drop-shadow(0px 1px 2px rgba(0, 0, 0, 0.3));\n",
              "      fill: #FFFFFF;\n",
              "    }\n",
              "  </style>\n",
              "\n",
              "      <script>\n",
              "        const buttonEl =\n",
              "          document.querySelector('#df-bdabfef0-7fee-40fa-a53b-fcc9002907be button.colab-df-convert');\n",
              "        buttonEl.style.display =\n",
              "          google.colab.kernel.accessAllowed ? 'block' : 'none';\n",
              "\n",
              "        async function convertToInteractive(key) {\n",
              "          const element = document.querySelector('#df-bdabfef0-7fee-40fa-a53b-fcc9002907be');\n",
              "          const dataTable =\n",
              "            await google.colab.kernel.invokeFunction('convertToInteractive',\n",
              "                                                     [key], {});\n",
              "          if (!dataTable) return;\n",
              "\n",
              "          const docLinkHtml = 'Like what you see? Visit the ' +\n",
              "            '<a target=\"_blank\" href=https://colab.research.google.com/notebooks/data_table.ipynb>data table notebook</a>'\n",
              "            + ' to learn more about interactive tables.';\n",
              "          element.innerHTML = '';\n",
              "          dataTable['output_type'] = 'display_data';\n",
              "          await google.colab.output.renderOutput(dataTable, element);\n",
              "          const docLink = document.createElement('div');\n",
              "          docLink.innerHTML = docLinkHtml;\n",
              "          element.appendChild(docLink);\n",
              "        }\n",
              "      </script>\n",
              "    </div>\n",
              "  </div>\n",
              "  "
            ]
          },
          "metadata": {},
          "execution_count": 47
        }
      ],
      "source": [
        "user_item_matrix"
      ]
    },
    {
      "cell_type": "code",
      "source": [
        "user_item_matrix.to_csv(\"C:\\\\Users\\\\HP\\\\Downloads\\\\export.csv\")"
      ],
      "metadata": {
        "id": "bgTklzlj8qUf"
      },
      "execution_count": null,
      "outputs": []
    },
    {
      "cell_type": "code",
      "execution_count": null,
      "metadata": {
        "id": "Kl8ECeC6L54O"
      },
      "outputs": [],
      "source": [
        "import sys\n",
        "f = open(\"matrix.csv\",\"w\")\n",
        "user_item_matrix.to_csv(f, index=False)"
      ]
    },
    {
      "cell_type": "code",
      "execution_count": null,
      "metadata": {
        "id": "SpYHg-b_Lxqe"
      },
      "outputs": [],
      "source": [
        "from sklearn.metrics.pairwise import cosine_similarity"
      ]
    },
    {
      "cell_type": "code",
      "execution_count": null,
      "metadata": {
        "id": "4aKjlxjJL0O0"
      },
      "outputs": [],
      "source": [
        "user_similarity = cosine_similarity(user_item_matrix.fillna(0))"
      ]
    },
    {
      "cell_type": "code",
      "execution_count": null,
      "metadata": {
        "id": "sZlSKV55MAHg"
      },
      "outputs": [],
      "source": [
        "def get_similar_users(user_id, n=10):\n",
        "    user_index = user_item_matrix.index.get_loc(user_id)\n",
        "    similar_users = sorted(list(enumerate(user_similarity[user_index])), key=lambda x: x[1], reverse=True)\n",
        "    return [user_item_matrix.index[user] for user, score in similar_users[1:n+1]]"
      ]
    },
    {
      "cell_type": "code",
      "execution_count": null,
      "metadata": {
        "id": "EqEUpL7SMGkP",
        "colab": {
          "base_uri": "https://localhost:8080/"
        },
        "outputId": "e96a4633-90dc-4c2c-ee38-b63c80c54d79"
      },
      "outputs": [
        {
          "output_type": "execute_result",
          "data": {
            "text/plain": [
              "[19877, 20519, 22475, 37119, 41717, 43023, 44205, 48408, 49188, 63835]"
            ]
          },
          "metadata": {},
          "execution_count": 53
        }
      ],
      "source": [
        "get_similar_users(42521656)"
      ]
    },
    {
      "cell_type": "code",
      "source": [
        "def get_similar_users2(user_id, n=10):\n",
        "    user_index = user_item_matrix.index.get_loc(user_id)\n",
        "    similar_users = sorted(list(enumerate(user_similarity[user_index])), key=lambda x: x[1], reverse=True)\n",
        "    return [(user_item_matrix.index[user],score) for user, score in similar_users[1:n+1]]"
      ],
      "metadata": {
        "id": "AtHFlCz1S4by"
      },
      "execution_count": null,
      "outputs": []
    },
    {
      "cell_type": "code",
      "source": [
        "get_similar_users2(42521656)"
      ],
      "metadata": {
        "colab": {
          "base_uri": "https://localhost:8080/"
        },
        "id": "uRJ4jBiQTB00",
        "outputId": "edb8c917-6438-4eed-e3dd-326b0891ab28"
      },
      "execution_count": null,
      "outputs": [
        {
          "output_type": "execute_result",
          "data": {
            "text/plain": [
              "[(19877, 0.0),\n",
              " (20519, 0.0),\n",
              " (22475, 0.0),\n",
              " (37119, 0.0),\n",
              " (41717, 0.0),\n",
              " (43023, 0.0),\n",
              " (44205, 0.0),\n",
              " (48408, 0.0),\n",
              " (49188, 0.0),\n",
              " (63835, 0.0)]"
            ]
          },
          "metadata": {},
          "execution_count": 55
        }
      ]
    },
    {
      "cell_type": "code",
      "execution_count": null,
      "metadata": {
        "id": "dLAlrDzCMLTA"
      },
      "outputs": [],
      "source": [
        "item_similarity = cosine_similarity(user_item_matrix.fillna(0).T)"
      ]
    },
    {
      "cell_type": "code",
      "execution_count": null,
      "metadata": {
        "id": "Ut0FhaVWMM2d"
      },
      "outputs": [],
      "source": [
        "def get_similar_items(product_id, n=10):\n",
        "    item_index = user_item_matrix.columns.get_loc(product_id)\n",
        "    similar_items = sorted(list(enumerate(item_similarity[item_index])), key=lambda x: x[1], reverse=True)\n",
        "    return [user_item_matrix.columns[item] for item, score in similar_items[1:n+1]]\n"
      ]
    },
    {
      "cell_type": "code",
      "source": [],
      "metadata": {
        "id": "rd4M6CHDlk42"
      },
      "execution_count": null,
      "outputs": []
    },
    {
      "cell_type": "code",
      "execution_count": null,
      "metadata": {
        "colab": {
          "base_uri": "https://localhost:8080/"
        },
        "id": "SIl5uvszMOF9",
        "outputId": "fe9b6fe0-6374-4040-e99c-b6f6ee5a4e68"
      },
      "outputs": [
        {
          "output_type": "execute_result",
          "data": {
            "text/plain": [
              "['B000SARZ9Q',\n",
              " '3334353648',\n",
              " '4639725418',\n",
              " 'B0000531B7',\n",
              " 'B000063D0C',\n",
              " 'B00006IUTN',\n",
              " 'B00008CQRK',\n",
              " 'B0000CCZYT',\n",
              " 'B0000CDBPT',\n",
              " 'B0000CEQ6H']"
            ]
          },
          "metadata": {},
          "execution_count": 58
        }
      ],
      "source": [
        "get_similar_items(\"B000SAQCWC\")"
      ]
    },
    {
      "cell_type": "code",
      "execution_count": null,
      "metadata": {
        "colab": {
          "base_uri": "https://localhost:8080/"
        },
        "id": "a7MZDPC2MQUV",
        "outputId": "859cad98-de22-4e2e-8bb4-76054f1f47de"
      },
      "outputs": [
        {
          "output_type": "stream",
          "name": "stdout",
          "text": [
            "Looking in indexes: https://pypi.org/simple, https://us-python.pkg.dev/colab-wheels/public/simple/\n",
            "Requirement already satisfied: scikit-surprise in /usr/local/lib/python3.10/dist-packages (1.1.3)\n",
            "Requirement already satisfied: numpy>=1.17.3 in /usr/local/lib/python3.10/dist-packages (from scikit-surprise) (1.22.4)\n",
            "Requirement already satisfied: scipy>=1.3.2 in /usr/local/lib/python3.10/dist-packages (from scikit-surprise) (1.10.1)\n",
            "Requirement already satisfied: joblib>=1.0.0 in /usr/local/lib/python3.10/dist-packages (from scikit-surprise) (1.2.0)\n"
          ]
        }
      ],
      "source": [
        "pip install scikit-surprise"
      ]
    },
    {
      "cell_type": "code",
      "execution_count": null,
      "metadata": {
        "id": "DCs_6V1wMRkL"
      },
      "outputs": [],
      "source": [
        "from surprise import Dataset, Reader\n",
        "\n",
        "reader = Reader(rating_scale=(1, 5))\n",
        "data = Dataset.load_from_df(df[['customer_id', 'product_id', 'star_rating']], reader)"
      ]
    },
    {
      "cell_type": "code",
      "execution_count": null,
      "metadata": {
        "id": "sdZf-JovMTLN"
      },
      "outputs": [],
      "source": [
        "from surprise import SVD, accuracy\n",
        "from surprise.model_selection import cross_validate"
      ]
    },
    {
      "cell_type": "code",
      "source": [
        "algo = SVD()"
      ],
      "metadata": {
        "id": "3ZmufMu5k-za"
      },
      "execution_count": null,
      "outputs": []
    },
    {
      "cell_type": "code",
      "execution_count": null,
      "metadata": {
        "colab": {
          "base_uri": "https://localhost:8080/"
        },
        "id": "enNu68XxMW98",
        "outputId": "e9c064a6-0d42-481b-de1c-38ef9ef0ceb5"
      },
      "outputs": [
        {
          "output_type": "execute_result",
          "data": {
            "text/plain": [
              "<surprise.prediction_algorithms.matrix_factorization.SVD at 0x7fd1603c06d0>"
            ]
          },
          "metadata": {},
          "execution_count": 63
        }
      ],
      "source": [
        "algo.fit(data.build_full_trainset())"
      ]
    },
    {
      "cell_type": "code",
      "execution_count": null,
      "metadata": {
        "id": "DGe40llIMYQ2"
      },
      "outputs": [],
      "source": [
        "def predict_rating(user_id, product_id):\n",
        "    return algo.predict(user_id, product_id).est"
      ]
    },
    {
      "cell_type": "code",
      "execution_count": null,
      "metadata": {
        "colab": {
          "base_uri": "https://localhost:8080/"
        },
        "id": "_1KsyNE1MZkn",
        "outputId": "40b4025a-5269-4edd-d452-b8f643193113"
      },
      "outputs": [
        {
          "output_type": "execute_result",
          "data": {
            "text/plain": [
              "3.8991448704717184"
            ]
          },
          "metadata": {},
          "execution_count": 65
        }
      ],
      "source": [
        "predict_rating(12650237,\"B0083GJKR2\")"
      ]
    },
    {
      "cell_type": "code",
      "source": [
        "cross_validate(algo, data, measures=['RMSE', 'MAE'], cv=5, verbose=True)"
      ],
      "metadata": {
        "colab": {
          "base_uri": "https://localhost:8080/"
        },
        "id": "FBTNOAfzk0pw",
        "outputId": "fd4c0cd8-cf23-48db-b777-cff867fd2cc8"
      },
      "execution_count": null,
      "outputs": [
        {
          "output_type": "stream",
          "name": "stdout",
          "text": [
            "Evaluating RMSE, MAE of algorithm SVD on 5 split(s).\n",
            "\n",
            "                  Fold 1  Fold 2  Fold 3  Fold 4  Fold 5  Mean    Std     \n",
            "RMSE (testset)    1.2136  1.1526  1.2188  1.2358  1.1316  1.1905  0.0407  \n",
            "MAE (testset)     0.9038  0.8662  0.9021  0.9094  0.8560  0.8875  0.0219  \n",
            "Fit time          0.39    0.38    0.37    0.37    0.37    0.37    0.01    \n",
            "Test time         0.02    0.02    0.02    0.02    0.03    0.02    0.00    \n"
          ]
        },
        {
          "output_type": "execute_result",
          "data": {
            "text/plain": [
              "{'test_rmse': array([1.21355095, 1.15263654, 1.21875641, 1.23576279, 1.13162261]),\n",
              " 'test_mae': array([0.9037556 , 0.8662225 , 0.90213998, 0.90944096, 0.85596296]),\n",
              " 'fit_time': (0.38910889625549316,\n",
              "  0.3776881694793701,\n",
              "  0.3652205467224121,\n",
              "  0.3718736171722412,\n",
              "  0.36589860916137695),\n",
              " 'test_time': (0.020676612854003906,\n",
              "  0.02268838882446289,\n",
              "  0.021547317504882812,\n",
              "  0.0221707820892334,\n",
              "  0.02752852439880371)}"
            ]
          },
          "metadata": {},
          "execution_count": 84
        }
      ]
    },
    {
      "cell_type": "markdown",
      "metadata": {
        "id": "ha74x5HDMfhY"
      },
      "source": [
        "#**Knowledge based Recommendation**"
      ]
    },
    {
      "cell_type": "code",
      "execution_count": null,
      "metadata": {
        "colab": {
          "base_uri": "https://localhost:8080/",
          "height": 1000
        },
        "id": "qxc1WSWr2YbS",
        "outputId": "40469af8-4184-4cd7-c546-2992331b305b"
      },
      "outputs": [
        {
          "output_type": "execute_result",
          "data": {
            "text/plain": [
              "     marketplace  customer_id       review_id  product_id  product_parent  \\\n",
              "0             US     42521656  R26MV8D0KG6QI6  B000SAQCWC       159713740   \n",
              "1             US     12049833  R1OF8GP57AQ1A0  B00509LVIQ       138680402   \n",
              "2             US       107642  R3VDC1QB6MC4ZZ  B00KHXESLC       252021703   \n",
              "3             US      6042304  R12FA3DCF8F9ER  B000F8JIIC       752728342   \n",
              "4             US     18123821   RTWHVNV6X4CNJ  B004ZWR9RQ       552138758   \n",
              "...          ...          ...             ...         ...             ...   \n",
              "9995          US     18423497  R1AYN0EGNZY898  B003Q3EYVO       946201884   \n",
              "9996          US     15676025   RP1U62EKOFMOT  B004D03WCG       695987685   \n",
              "9997          US     19638218  R1MVDG6C173V3C  B004FEGLLO       493740672   \n",
              "9998          US     51274903  R2O1TZ2JXWXDE6  B004B7C524       873009722   \n",
              "9999          US     45220881  R2UHBQQSXKCF5Y  B00NJXA2EE       314822672   \n",
              "\n",
              "                                          product_title product_category  \\\n",
              "0     [craving, place, chocolate, chunk, cookie, mix...          Grocery   \n",
              "1           [mauna, loa, macadamia, 11, ounce, package]          Grocery   \n",
              "2     [organic, matcha, green, tea, powder, 100, pur...          Grocery   \n",
              "3     [15oz, raspberry, lyon, designer, dessert, syr...          Grocery   \n",
              "4     [stride, spark, kinetic, fruit, sugar, free, g...          Grocery   \n",
              "...                                                 ...              ...   \n",
              "9995  [farmdirect, 100, kona, coffee, dark, roast, w...          Grocery   \n",
              "9996                        [stonewall, kitchen, sauce]          Grocery   \n",
              "9997  [hawaiian, punch, berry, blue, typhoon, 128oun...          Grocery   \n",
              "9998  [provence, epice, provence, herb, france, larg...          Grocery   \n",
              "9999                [body, part, gummy, candy, 3, pack]          Grocery   \n",
              "\n",
              "      star_rating  helpful_votes  total_votes vine verified_purchase  \\\n",
              "0               5            0.0          0.0    N                 Y   \n",
              "1               5            0.0          0.0    N                 Y   \n",
              "2               5            0.0          0.0    N                 N   \n",
              "3               5            0.0          0.0    N                 Y   \n",
              "4               5            0.0          0.0    N                 Y   \n",
              "...           ...            ...          ...  ...               ...   \n",
              "9995            5            0.0          0.0    N                 Y   \n",
              "9996            5            0.0          0.0    N                 Y   \n",
              "9997            5            0.0          0.0    N                 Y   \n",
              "9998            4            0.0          0.0    N                 Y   \n",
              "9999            2            0.0          0.0    N                 Y   \n",
              "\n",
              "                              review_headline  \\\n",
              "0          Using these for years - love them.   \n",
              "1                                   Wonderful   \n",
              "2                                  Five Stars   \n",
              "3                                  Five Stars   \n",
              "4                                  Five Stars   \n",
              "...                                       ...   \n",
              "9995                               Five Stars   \n",
              "9996  Choca-holics rejoice!  Love this stuff!   \n",
              "9997                               Five Stars   \n",
              "9998           Put it on  NY Strip?  You win!   \n",
              "9999                      NOT worth the money   \n",
              "\n",
              "                                            review_body review_date  sentiment  \n",
              "0     [family, allergic, wheat, dairy, egg, nut, sev...  2015-08-31     0.8096  \n",
              "1     [favorite, nut, creamy, crunchy, salty, slight...  2015-08-31     0.6915  \n",
              "2           [green, tea, taste, good, girlfriend, love]  2015-08-31     0.8286  \n",
              "3     [love, melissa, brand, great, second, cant, ge...  2015-08-31     0.8500  \n",
              "4                                                [good]  2015-08-31     0.4404  \n",
              "...                                                 ...         ...        ...  \n",
              "9995  [love, medium, dark, roast, always, happy, blu...  2015-08-28     0.8360  \n",
              "9996  [always, top, line, chocolate, sauce, oh, remi...  2015-08-28     0.9022  \n",
              "9997                               [thanks, good, item]  2015-08-28     0.7003  \n",
              "9998  [salt, pepper, herbe, de, provence, ny, strip,...  2015-08-28     0.0000  \n",
              "9999  [disappointed, 6, finger, 4, red, blob, guess,...  2015-08-28    -0.3311  \n",
              "\n",
              "[9998 rows x 16 columns]"
            ],
            "text/html": [
              "\n",
              "  <div id=\"df-c76d38a2-2cee-4652-892e-f137083364e1\">\n",
              "    <div class=\"colab-df-container\">\n",
              "      <div>\n",
              "<style scoped>\n",
              "    .dataframe tbody tr th:only-of-type {\n",
              "        vertical-align: middle;\n",
              "    }\n",
              "\n",
              "    .dataframe tbody tr th {\n",
              "        vertical-align: top;\n",
              "    }\n",
              "\n",
              "    .dataframe thead th {\n",
              "        text-align: right;\n",
              "    }\n",
              "</style>\n",
              "<table border=\"1\" class=\"dataframe\">\n",
              "  <thead>\n",
              "    <tr style=\"text-align: right;\">\n",
              "      <th></th>\n",
              "      <th>marketplace</th>\n",
              "      <th>customer_id</th>\n",
              "      <th>review_id</th>\n",
              "      <th>product_id</th>\n",
              "      <th>product_parent</th>\n",
              "      <th>product_title</th>\n",
              "      <th>product_category</th>\n",
              "      <th>star_rating</th>\n",
              "      <th>helpful_votes</th>\n",
              "      <th>total_votes</th>\n",
              "      <th>vine</th>\n",
              "      <th>verified_purchase</th>\n",
              "      <th>review_headline</th>\n",
              "      <th>review_body</th>\n",
              "      <th>review_date</th>\n",
              "      <th>sentiment</th>\n",
              "    </tr>\n",
              "  </thead>\n",
              "  <tbody>\n",
              "    <tr>\n",
              "      <th>0</th>\n",
              "      <td>US</td>\n",
              "      <td>42521656</td>\n",
              "      <td>R26MV8D0KG6QI6</td>\n",
              "      <td>B000SAQCWC</td>\n",
              "      <td>159713740</td>\n",
              "      <td>[craving, place, chocolate, chunk, cookie, mix...</td>\n",
              "      <td>Grocery</td>\n",
              "      <td>5</td>\n",
              "      <td>0.0</td>\n",
              "      <td>0.0</td>\n",
              "      <td>N</td>\n",
              "      <td>Y</td>\n",
              "      <td>Using these for years - love them.</td>\n",
              "      <td>[family, allergic, wheat, dairy, egg, nut, sev...</td>\n",
              "      <td>2015-08-31</td>\n",
              "      <td>0.8096</td>\n",
              "    </tr>\n",
              "    <tr>\n",
              "      <th>1</th>\n",
              "      <td>US</td>\n",
              "      <td>12049833</td>\n",
              "      <td>R1OF8GP57AQ1A0</td>\n",
              "      <td>B00509LVIQ</td>\n",
              "      <td>138680402</td>\n",
              "      <td>[mauna, loa, macadamia, 11, ounce, package]</td>\n",
              "      <td>Grocery</td>\n",
              "      <td>5</td>\n",
              "      <td>0.0</td>\n",
              "      <td>0.0</td>\n",
              "      <td>N</td>\n",
              "      <td>Y</td>\n",
              "      <td>Wonderful</td>\n",
              "      <td>[favorite, nut, creamy, crunchy, salty, slight...</td>\n",
              "      <td>2015-08-31</td>\n",
              "      <td>0.6915</td>\n",
              "    </tr>\n",
              "    <tr>\n",
              "      <th>2</th>\n",
              "      <td>US</td>\n",
              "      <td>107642</td>\n",
              "      <td>R3VDC1QB6MC4ZZ</td>\n",
              "      <td>B00KHXESLC</td>\n",
              "      <td>252021703</td>\n",
              "      <td>[organic, matcha, green, tea, powder, 100, pur...</td>\n",
              "      <td>Grocery</td>\n",
              "      <td>5</td>\n",
              "      <td>0.0</td>\n",
              "      <td>0.0</td>\n",
              "      <td>N</td>\n",
              "      <td>N</td>\n",
              "      <td>Five Stars</td>\n",
              "      <td>[green, tea, taste, good, girlfriend, love]</td>\n",
              "      <td>2015-08-31</td>\n",
              "      <td>0.8286</td>\n",
              "    </tr>\n",
              "    <tr>\n",
              "      <th>3</th>\n",
              "      <td>US</td>\n",
              "      <td>6042304</td>\n",
              "      <td>R12FA3DCF8F9ER</td>\n",
              "      <td>B000F8JIIC</td>\n",
              "      <td>752728342</td>\n",
              "      <td>[15oz, raspberry, lyon, designer, dessert, syr...</td>\n",
              "      <td>Grocery</td>\n",
              "      <td>5</td>\n",
              "      <td>0.0</td>\n",
              "      <td>0.0</td>\n",
              "      <td>N</td>\n",
              "      <td>Y</td>\n",
              "      <td>Five Stars</td>\n",
              "      <td>[love, melissa, brand, great, second, cant, ge...</td>\n",
              "      <td>2015-08-31</td>\n",
              "      <td>0.8500</td>\n",
              "    </tr>\n",
              "    <tr>\n",
              "      <th>4</th>\n",
              "      <td>US</td>\n",
              "      <td>18123821</td>\n",
              "      <td>RTWHVNV6X4CNJ</td>\n",
              "      <td>B004ZWR9RQ</td>\n",
              "      <td>552138758</td>\n",
              "      <td>[stride, spark, kinetic, fruit, sugar, free, g...</td>\n",
              "      <td>Grocery</td>\n",
              "      <td>5</td>\n",
              "      <td>0.0</td>\n",
              "      <td>0.0</td>\n",
              "      <td>N</td>\n",
              "      <td>Y</td>\n",
              "      <td>Five Stars</td>\n",
              "      <td>[good]</td>\n",
              "      <td>2015-08-31</td>\n",
              "      <td>0.4404</td>\n",
              "    </tr>\n",
              "    <tr>\n",
              "      <th>...</th>\n",
              "      <td>...</td>\n",
              "      <td>...</td>\n",
              "      <td>...</td>\n",
              "      <td>...</td>\n",
              "      <td>...</td>\n",
              "      <td>...</td>\n",
              "      <td>...</td>\n",
              "      <td>...</td>\n",
              "      <td>...</td>\n",
              "      <td>...</td>\n",
              "      <td>...</td>\n",
              "      <td>...</td>\n",
              "      <td>...</td>\n",
              "      <td>...</td>\n",
              "      <td>...</td>\n",
              "      <td>...</td>\n",
              "    </tr>\n",
              "    <tr>\n",
              "      <th>9995</th>\n",
              "      <td>US</td>\n",
              "      <td>18423497</td>\n",
              "      <td>R1AYN0EGNZY898</td>\n",
              "      <td>B003Q3EYVO</td>\n",
              "      <td>946201884</td>\n",
              "      <td>[farmdirect, 100, kona, coffee, dark, roast, w...</td>\n",
              "      <td>Grocery</td>\n",
              "      <td>5</td>\n",
              "      <td>0.0</td>\n",
              "      <td>0.0</td>\n",
              "      <td>N</td>\n",
              "      <td>Y</td>\n",
              "      <td>Five Stars</td>\n",
              "      <td>[love, medium, dark, roast, always, happy, blu...</td>\n",
              "      <td>2015-08-28</td>\n",
              "      <td>0.8360</td>\n",
              "    </tr>\n",
              "    <tr>\n",
              "      <th>9996</th>\n",
              "      <td>US</td>\n",
              "      <td>15676025</td>\n",
              "      <td>RP1U62EKOFMOT</td>\n",
              "      <td>B004D03WCG</td>\n",
              "      <td>695987685</td>\n",
              "      <td>[stonewall, kitchen, sauce]</td>\n",
              "      <td>Grocery</td>\n",
              "      <td>5</td>\n",
              "      <td>0.0</td>\n",
              "      <td>0.0</td>\n",
              "      <td>N</td>\n",
              "      <td>Y</td>\n",
              "      <td>Choca-holics rejoice!  Love this stuff!</td>\n",
              "      <td>[always, top, line, chocolate, sauce, oh, remi...</td>\n",
              "      <td>2015-08-28</td>\n",
              "      <td>0.9022</td>\n",
              "    </tr>\n",
              "    <tr>\n",
              "      <th>9997</th>\n",
              "      <td>US</td>\n",
              "      <td>19638218</td>\n",
              "      <td>R1MVDG6C173V3C</td>\n",
              "      <td>B004FEGLLO</td>\n",
              "      <td>493740672</td>\n",
              "      <td>[hawaiian, punch, berry, blue, typhoon, 128oun...</td>\n",
              "      <td>Grocery</td>\n",
              "      <td>5</td>\n",
              "      <td>0.0</td>\n",
              "      <td>0.0</td>\n",
              "      <td>N</td>\n",
              "      <td>Y</td>\n",
              "      <td>Five Stars</td>\n",
              "      <td>[thanks, good, item]</td>\n",
              "      <td>2015-08-28</td>\n",
              "      <td>0.7003</td>\n",
              "    </tr>\n",
              "    <tr>\n",
              "      <th>9998</th>\n",
              "      <td>US</td>\n",
              "      <td>51274903</td>\n",
              "      <td>R2O1TZ2JXWXDE6</td>\n",
              "      <td>B004B7C524</td>\n",
              "      <td>873009722</td>\n",
              "      <td>[provence, epice, provence, herb, france, larg...</td>\n",
              "      <td>Grocery</td>\n",
              "      <td>4</td>\n",
              "      <td>0.0</td>\n",
              "      <td>0.0</td>\n",
              "      <td>N</td>\n",
              "      <td>Y</td>\n",
              "      <td>Put it on  NY Strip?  You win!</td>\n",
              "      <td>[salt, pepper, herbe, de, provence, ny, strip,...</td>\n",
              "      <td>2015-08-28</td>\n",
              "      <td>0.0000</td>\n",
              "    </tr>\n",
              "    <tr>\n",
              "      <th>9999</th>\n",
              "      <td>US</td>\n",
              "      <td>45220881</td>\n",
              "      <td>R2UHBQQSXKCF5Y</td>\n",
              "      <td>B00NJXA2EE</td>\n",
              "      <td>314822672</td>\n",
              "      <td>[body, part, gummy, candy, 3, pack]</td>\n",
              "      <td>Grocery</td>\n",
              "      <td>2</td>\n",
              "      <td>0.0</td>\n",
              "      <td>0.0</td>\n",
              "      <td>N</td>\n",
              "      <td>Y</td>\n",
              "      <td>NOT worth the money</td>\n",
              "      <td>[disappointed, 6, finger, 4, red, blob, guess,...</td>\n",
              "      <td>2015-08-28</td>\n",
              "      <td>-0.3311</td>\n",
              "    </tr>\n",
              "  </tbody>\n",
              "</table>\n",
              "<p>9998 rows × 16 columns</p>\n",
              "</div>\n",
              "      <button class=\"colab-df-convert\" onclick=\"convertToInteractive('df-c76d38a2-2cee-4652-892e-f137083364e1')\"\n",
              "              title=\"Convert this dataframe to an interactive table.\"\n",
              "              style=\"display:none;\">\n",
              "        \n",
              "  <svg xmlns=\"http://www.w3.org/2000/svg\" height=\"24px\"viewBox=\"0 0 24 24\"\n",
              "       width=\"24px\">\n",
              "    <path d=\"M0 0h24v24H0V0z\" fill=\"none\"/>\n",
              "    <path d=\"M18.56 5.44l.94 2.06.94-2.06 2.06-.94-2.06-.94-.94-2.06-.94 2.06-2.06.94zm-11 1L8.5 8.5l.94-2.06 2.06-.94-2.06-.94L8.5 2.5l-.94 2.06-2.06.94zm10 10l.94 2.06.94-2.06 2.06-.94-2.06-.94-.94-2.06-.94 2.06-2.06.94z\"/><path d=\"M17.41 7.96l-1.37-1.37c-.4-.4-.92-.59-1.43-.59-.52 0-1.04.2-1.43.59L10.3 9.45l-7.72 7.72c-.78.78-.78 2.05 0 2.83L4 21.41c.39.39.9.59 1.41.59.51 0 1.02-.2 1.41-.59l7.78-7.78 2.81-2.81c.8-.78.8-2.07 0-2.86zM5.41 20L4 18.59l7.72-7.72 1.47 1.35L5.41 20z\"/>\n",
              "  </svg>\n",
              "      </button>\n",
              "      \n",
              "  <style>\n",
              "    .colab-df-container {\n",
              "      display:flex;\n",
              "      flex-wrap:wrap;\n",
              "      gap: 12px;\n",
              "    }\n",
              "\n",
              "    .colab-df-convert {\n",
              "      background-color: #E8F0FE;\n",
              "      border: none;\n",
              "      border-radius: 50%;\n",
              "      cursor: pointer;\n",
              "      display: none;\n",
              "      fill: #1967D2;\n",
              "      height: 32px;\n",
              "      padding: 0 0 0 0;\n",
              "      width: 32px;\n",
              "    }\n",
              "\n",
              "    .colab-df-convert:hover {\n",
              "      background-color: #E2EBFA;\n",
              "      box-shadow: 0px 1px 2px rgba(60, 64, 67, 0.3), 0px 1px 3px 1px rgba(60, 64, 67, 0.15);\n",
              "      fill: #174EA6;\n",
              "    }\n",
              "\n",
              "    [theme=dark] .colab-df-convert {\n",
              "      background-color: #3B4455;\n",
              "      fill: #D2E3FC;\n",
              "    }\n",
              "\n",
              "    [theme=dark] .colab-df-convert:hover {\n",
              "      background-color: #434B5C;\n",
              "      box-shadow: 0px 1px 3px 1px rgba(0, 0, 0, 0.15);\n",
              "      filter: drop-shadow(0px 1px 2px rgba(0, 0, 0, 0.3));\n",
              "      fill: #FFFFFF;\n",
              "    }\n",
              "  </style>\n",
              "\n",
              "      <script>\n",
              "        const buttonEl =\n",
              "          document.querySelector('#df-c76d38a2-2cee-4652-892e-f137083364e1 button.colab-df-convert');\n",
              "        buttonEl.style.display =\n",
              "          google.colab.kernel.accessAllowed ? 'block' : 'none';\n",
              "\n",
              "        async function convertToInteractive(key) {\n",
              "          const element = document.querySelector('#df-c76d38a2-2cee-4652-892e-f137083364e1');\n",
              "          const dataTable =\n",
              "            await google.colab.kernel.invokeFunction('convertToInteractive',\n",
              "                                                     [key], {});\n",
              "          if (!dataTable) return;\n",
              "\n",
              "          const docLinkHtml = 'Like what you see? Visit the ' +\n",
              "            '<a target=\"_blank\" href=https://colab.research.google.com/notebooks/data_table.ipynb>data table notebook</a>'\n",
              "            + ' to learn more about interactive tables.';\n",
              "          element.innerHTML = '';\n",
              "          dataTable['output_type'] = 'display_data';\n",
              "          await google.colab.output.renderOutput(dataTable, element);\n",
              "          const docLink = document.createElement('div');\n",
              "          docLink.innerHTML = docLinkHtml;\n",
              "          element.appendChild(docLink);\n",
              "        }\n",
              "      </script>\n",
              "    </div>\n",
              "  </div>\n",
              "  "
            ]
          },
          "metadata": {},
          "execution_count": 66
        }
      ],
      "source": [
        "df"
      ]
    },
    {
      "cell_type": "code",
      "execution_count": null,
      "metadata": {
        "id": "ZmJ4mGxF3uwq"
      },
      "outputs": [],
      "source": [
        "import re\n",
        "def clean_text(text):\n",
        "    text = re.sub('<.*?>', ' ', text)\n",
        "    text = re.sub('[^a-zA-Z0-9]+', ' ', text)\n",
        "    text=text.lower()\n",
        "    text =text.split()\n",
        "    text=remove_stopwords(text)\n",
        "    text =lemmatize_text(text)\n",
        "    return text"
      ]
    },
    {
      "cell_type": "code",
      "execution_count": null,
      "metadata": {
        "id": "iD_ZrW6JMoQw"
      },
      "outputs": [],
      "source": [
        "from sklearn.metrics.pairwise import cosine_similarity\n",
        "from sklearn.preprocessing import MultiLabelBinarizer"
      ]
    },
    {
      "cell_type": "code",
      "execution_count": null,
      "metadata": {
        "id": "VlLnvQXPMqBv"
      },
      "outputs": [],
      "source": [
        "mlb = MultiLabelBinarizer()\n",
        "product_encoded = mlb.fit_transform(df['product_title'])\n",
        "product_similarity = cosine_similarity(product_encoded) #contains pairwise similarity scores"
      ]
    },
    {
      "cell_type": "code",
      "source": [
        "print(product_encoded)"
      ],
      "metadata": {
        "colab": {
          "base_uri": "https://localhost:8080/"
        },
        "id": "OAlE2XqbWo-B",
        "outputId": "9d5c6814-bd9c-4d04-b479-ed62b81fff56"
      },
      "execution_count": null,
      "outputs": [
        {
          "output_type": "stream",
          "name": "stdout",
          "text": [
            "[[0 0 0 ... 0 0 0]\n",
            " [0 0 0 ... 0 0 0]\n",
            " [0 0 0 ... 0 0 0]\n",
            " ...\n",
            " [0 0 0 ... 0 0 0]\n",
            " [0 0 0 ... 0 0 0]\n",
            " [0 0 0 ... 0 0 0]]\n"
          ]
        }
      ]
    },
    {
      "cell_type": "code",
      "execution_count": null,
      "metadata": {
        "id": "g_QVktZrMrQJ"
      },
      "outputs": [],
      "source": [
        "def get_similar_products(product_id, n=10):\n",
        "    product_index = df.index[df['product_id'] == product_id].tolist()[0]\n",
        "    similar_products = sorted(list(enumerate(product_similarity[product_index])), key=lambda x: x[1], reverse=True)\n",
        "    return df.iloc[[i for i, _ in similar_products[1:n+1]]]\n"
      ]
    },
    {
      "cell_type": "code",
      "execution_count": null,
      "metadata": {
        "colab": {
          "base_uri": "https://localhost:8080/"
        },
        "id": "T9-GyL0eMuaV",
        "outputId": "b396857c-fcb7-4cb4-934b-1dfb44a0867c"
      },
      "outputs": [
        {
          "output_type": "stream",
          "name": "stdout",
          "text": [
            "      product_id                                      product_title\n",
            "838   B000SARZ9Q  [craving, place, ooey, gooey, chocolatey, chew...\n",
            "4263  B004AXZ5I0                    [mix, batter, tempura, pack, 6]\n",
            "5483  B00OU25KVI  [cotton, mouth, candy, sour, mix, bag, 33oz, 6...\n",
            "1058  B000H28ADK  [caffe, dvita, white, chocolate, cappuccino, m...\n",
            "712   B000UV6WJM  [preformed, frozen, cookie, dough, chocolate, ...\n",
            "4240  B000EDBQ4M       [gluten, free, chocolate, chip, cookie, mix]\n",
            "3277  B00HWB9NJE  [quest, variety, pack, craving, peanut, butter...\n",
            "9120  B00O3GR6TK  [quest, nutrition, quest, bar, variety, pack, ...\n",
            "124   B0019SE6M0                      [ghirardelli, chocolate, mix]\n",
            "4392  B001G604YY                      [ghirardelli, chocolate, mix]\n"
          ]
        }
      ],
      "source": [
        "# Find 10 products similar to given product_id\n",
        "similar_products = get_similar_products('B000SAQCWC')\n",
        "print(similar_products[[\"product_id\",\"product_title\"]])"
      ]
    },
    {
      "cell_type": "code",
      "execution_count": null,
      "metadata": {
        "id": "TIIvAEbu4Zzu"
      },
      "outputs": [],
      "source": [
        "def constraint_based_filter(keywords=None, min_rating=None, max_rating=None):\n",
        "    filtered_products = df.copy()\n",
        "    if keywords:\n",
        "        keywords = clean_text(keywords)\n",
        "        filtered_products = filtered_products[filtered_products['review_body'].apply(lambda x: any(kw in x for kw in keywords)) \\\n",
        "                                      | filtered_products['product_title'].apply(lambda x: any(kw in x for kw in keywords))]\n",
        "    if min_rating:\n",
        "        filtered_products = filtered_products[filtered_products['star_rating'] >= min_rating]\n",
        "    if max_rating:\n",
        "        filtered_products = filtered_products[filtered_products['star_rating'] <= max_rating]\n",
        "\n",
        "    return filtered_products"
      ]
    },
    {
      "cell_type": "code",
      "execution_count": null,
      "metadata": {
        "colab": {
          "base_uri": "https://localhost:8080/"
        },
        "id": "rpa81t9OMwU-",
        "outputId": "5cc445f5-8085-4dc2-b073-4dc901f40a94"
      },
      "outputs": [
        {
          "output_type": "stream",
          "name": "stdout",
          "text": [
            "      product_id                                      product_title  \\\n",
            "2     B00KHXESLC  [organic, matcha, green, tea, powder, 100, pur...   \n",
            "4     B004ZWR9RQ  [stride, spark, kinetic, fruit, sugar, free, g...   \n",
            "11    B007TGH4CK  [wholesome, sweetener, organic, coconut, palm,...   \n",
            "14    B00V7LJIG8  [everly, passion, fruit, green, tea, natural, ...   \n",
            "16    B00VK5SQOQ  [food, taste, good, real, good, bar, gluten, f...   \n",
            "...          ...                                                ...   \n",
            "9967  B00ZSPN2A2  [1, lb, organic, turmeric, root, powder, organ...   \n",
            "9968  B0095FWPZE           [simply, organic, pepper, tin, 4, ounce]   \n",
            "9974  B00SE3VPB8  [organic, matcha, green, tea, japan, ultraprem...   \n",
            "9979  B00UHCSEG8                   [one, organic, roasted, seaweed]   \n",
            "9983  B00H6T4XXS  [indus, organic, turkish, jumbo, dried, fig, s...   \n",
            "\n",
            "                                            review_body  \n",
            "2           [green, tea, taste, good, girlfriend, love]  \n",
            "4                                                [good]  \n",
            "11    [good, flavor, seems, concentrate, enough, add...  \n",
            "14        [good, tasting, great, way, get, away, sugar]  \n",
            "16    [wow, sooooooo, good, sweet, tooth, full, nut,...  \n",
            "...                                                 ...  \n",
            "9967  [super, familiar, recipe, turmeric, anyone, fe...  \n",
            "9968  [black, pepper, purchase, organic, well, price...  \n",
            "9974  [product, come, adorable, little, tin, sealed,...  \n",
            "9979  [taste, nori, good, however, fall, apart, crac...  \n",
            "9983                                    [good, product]  \n",
            "\n",
            "[1640 rows x 3 columns]\n"
          ]
        }
      ],
      "source": [
        "# Search for products with keywords and ratings range\n",
        "filtered_products = constraint_based_filter(keywords='organic gluten free', min_rating=4, max_rating=5)\n",
        "print(filtered_products[['product_id','product_title','review_body']])"
      ]
    },
    {
      "cell_type": "markdown",
      "metadata": {
        "id": "woK2JJQ2exzN"
      },
      "source": [
        "#**Content based Recommendation**"
      ]
    },
    {
      "cell_type": "code",
      "execution_count": null,
      "metadata": {
        "id": "fTSJBak_eus7"
      },
      "outputs": [],
      "source": [
        "relevant_df = df[['product_id', 'product_title', 'product_category']]"
      ]
    },
    {
      "cell_type": "code",
      "execution_count": null,
      "metadata": {
        "colab": {
          "base_uri": "https://localhost:8080/"
        },
        "id": "F5okQmzfe2Nt",
        "outputId": "16907993-c11a-4975-977f-506878e58b73"
      },
      "outputs": [
        {
          "output_type": "stream",
          "name": "stderr",
          "text": [
            "/usr/local/lib/python3.10/dist-packages/sklearn/feature_extraction/text.py:528: UserWarning: The parameter 'token_pattern' will not be used since 'tokenizer' is not None'\n",
            "  warnings.warn(\n"
          ]
        }
      ],
      "source": [
        "from sklearn.feature_extraction.text import TfidfVectorizer\n",
        "\n",
        "def dummy(text):\n",
        "    return text\n",
        "\n",
        "vectorizer = TfidfVectorizer(tokenizer=dummy, preprocessor=dummy)\n",
        "tfidf_matrix = vectorizer.fit_transform(df['product_title'].values)\n",
        "\n",
        "#vectorizer = TfidfVectorizer(preprocessor=preprocess)\n",
        "#tfidf_matrix = vectorizer.fit_transform(relevant_df['product_title'].values)"
      ]
    },
    {
      "cell_type": "code",
      "execution_count": null,
      "metadata": {
        "id": "WokzNv6le3ga"
      },
      "outputs": [],
      "source": [
        "def create_user_profile(user_id, df, tfidf_matrix):\n",
        "    # Filter the DataFrame to only include reviews from the given user\n",
        "    user_reviews = df[df['customer_id'] == user_id]\n",
        "\n",
        "    # Calculate the average rating given by the user\n",
        "    avg_rating = user_reviews['star_rating'].mean()\n",
        "\n",
        "    # Consider only the products that the user rated above their average rating\n",
        "    liked_products = user_reviews[user_reviews['star_rating'] >= avg_rating]['product_id']\n",
        "\n",
        "    # Get the indices of the liked products in the DataFrame\n",
        "    liked_product_indices = df[df['product_id'].isin(liked_products)].index\n",
        "    \n",
        "    # Calculate the user profile as the average of the liked products' TF-IDF vectors\n",
        "    user_profile = tfidf_matrix[liked_product_indices].mean(axis=0)\n",
        "\n",
        "    return user_profile"
      ]
    },
    {
      "cell_type": "code",
      "source": [
        "# Split the dataset into training and test sets\n",
        "test_size = 0.2\n",
        "train_df = df.sample(frac=1-test_size, random_state=42)\n",
        "test_df = df.drop(train_df.index)"
      ],
      "metadata": {
        "id": "mjmBlzQgjbhU"
      },
      "execution_count": null,
      "outputs": []
    },
    {
      "cell_type": "code",
      "execution_count": null,
      "metadata": {
        "id": "9dDWqlaje7kE"
      },
      "outputs": [],
      "source": [
        "from sklearn.metrics.pairwise import cosine_similarity\n",
        "\n",
        "def recommend_items(user_id, df, tfidf_matrix, top_n=10):\n",
        "    user_profile = create_user_profile(user_id, df, tfidf_matrix)\n",
        "    user_profile = np.asarray(user_profile)\n",
        "    cosine_sim = cosine_similarity(user_profile, tfidf_matrix)\n",
        "\n",
        "    # Sort items by similarity and return the top N items\n",
        "    sorted_indices = cosine_sim.argsort()[0][::-1]\n",
        "    sorted_indices = [i for i in sorted_indices if cosine_sim[0][i] < 1][:top_n]\n",
        "\n",
        "    #sorted_indices = cosine_sim.argsort()[0][::-1][:top_n]\n",
        "    recommended_items = df.iloc[sorted_indices]\n",
        "    recommended_items['cosine_sim'] = cosine_sim[0][sorted_indices]\n",
        "    return recommended_items[['product_id','product_title','cosine_sim']]"
      ]
    },
    {
      "cell_type": "code",
      "execution_count": null,
      "metadata": {
        "colab": {
          "base_uri": "https://localhost:8080/",
          "height": 467
        },
        "id": "QsFTPegHTH_x",
        "outputId": "e7cb040d-50f6-446d-b30d-01b43fe82fa2"
      },
      "outputs": [
        {
          "output_type": "stream",
          "name": "stderr",
          "text": [
            "<ipython-input-79-0c7faa99796c>:14: SettingWithCopyWarning: \n",
            "A value is trying to be set on a copy of a slice from a DataFrame.\n",
            "Try using .loc[row_indexer,col_indexer] = value instead\n",
            "\n",
            "See the caveats in the documentation: https://pandas.pydata.org/pandas-docs/stable/user_guide/indexing.html#returning-a-view-versus-a-copy\n",
            "  recommended_items['cosine_sim'] = cosine_sim[0][sorted_indices]\n"
          ]
        },
        {
          "output_type": "execute_result",
          "data": {
            "text/plain": [
              "      product_id                                      product_title  \\\n",
              "1194  B00A5V30PG  [herr, popcorn, cheeze, flavored, 1, oz, pack,...   \n",
              "1077  B0018SPTMW                               [herr, potato, chip]   \n",
              "970   B00016Q6EM                            [popcorn, salt, 16, oz]   \n",
              "6707  B00FKBUSW4        [starbucks, classic, hot, cocoa, 30, ounce]   \n",
              "3397  B0029XEY26                          [mizithra, cheese, 1, lb]   \n",
              "2869  B00M16OMZU  [adoboloco, hot, sauce, gift, set, 3, 5oz, 1, ...   \n",
              "98    B0064OLVFY                          [cheese, wax, 1, lb, red]   \n",
              "2283  B00AFELOT2                       [red, cheese, wax, 1, pound]   \n",
              "4966  B007RGGDQK         [indomie, variety, pack, 1, case, 30, bag]   \n",
              "5911  B004OV3VG6  [kernel, season, kettle, corn, popcorn, season...   \n",
              "\n",
              "      cosine_sim  \n",
              "1194    0.665536  \n",
              "1077    0.432704  \n",
              "970     0.293558  \n",
              "6707    0.284252  \n",
              "3397    0.264475  \n",
              "2869    0.264132  \n",
              "98      0.257051  \n",
              "2283    0.255635  \n",
              "4966    0.247922  \n",
              "5911    0.233157  "
            ],
            "text/html": [
              "\n",
              "  <div id=\"df-a732cacc-2ff6-427d-bbaf-749d6e965ab6\">\n",
              "    <div class=\"colab-df-container\">\n",
              "      <div>\n",
              "<style scoped>\n",
              "    .dataframe tbody tr th:only-of-type {\n",
              "        vertical-align: middle;\n",
              "    }\n",
              "\n",
              "    .dataframe tbody tr th {\n",
              "        vertical-align: top;\n",
              "    }\n",
              "\n",
              "    .dataframe thead th {\n",
              "        text-align: right;\n",
              "    }\n",
              "</style>\n",
              "<table border=\"1\" class=\"dataframe\">\n",
              "  <thead>\n",
              "    <tr style=\"text-align: right;\">\n",
              "      <th></th>\n",
              "      <th>product_id</th>\n",
              "      <th>product_title</th>\n",
              "      <th>cosine_sim</th>\n",
              "    </tr>\n",
              "  </thead>\n",
              "  <tbody>\n",
              "    <tr>\n",
              "      <th>1194</th>\n",
              "      <td>B00A5V30PG</td>\n",
              "      <td>[herr, popcorn, cheeze, flavored, 1, oz, pack,...</td>\n",
              "      <td>0.665536</td>\n",
              "    </tr>\n",
              "    <tr>\n",
              "      <th>1077</th>\n",
              "      <td>B0018SPTMW</td>\n",
              "      <td>[herr, potato, chip]</td>\n",
              "      <td>0.432704</td>\n",
              "    </tr>\n",
              "    <tr>\n",
              "      <th>970</th>\n",
              "      <td>B00016Q6EM</td>\n",
              "      <td>[popcorn, salt, 16, oz]</td>\n",
              "      <td>0.293558</td>\n",
              "    </tr>\n",
              "    <tr>\n",
              "      <th>6707</th>\n",
              "      <td>B00FKBUSW4</td>\n",
              "      <td>[starbucks, classic, hot, cocoa, 30, ounce]</td>\n",
              "      <td>0.284252</td>\n",
              "    </tr>\n",
              "    <tr>\n",
              "      <th>3397</th>\n",
              "      <td>B0029XEY26</td>\n",
              "      <td>[mizithra, cheese, 1, lb]</td>\n",
              "      <td>0.264475</td>\n",
              "    </tr>\n",
              "    <tr>\n",
              "      <th>2869</th>\n",
              "      <td>B00M16OMZU</td>\n",
              "      <td>[adoboloco, hot, sauce, gift, set, 3, 5oz, 1, ...</td>\n",
              "      <td>0.264132</td>\n",
              "    </tr>\n",
              "    <tr>\n",
              "      <th>98</th>\n",
              "      <td>B0064OLVFY</td>\n",
              "      <td>[cheese, wax, 1, lb, red]</td>\n",
              "      <td>0.257051</td>\n",
              "    </tr>\n",
              "    <tr>\n",
              "      <th>2283</th>\n",
              "      <td>B00AFELOT2</td>\n",
              "      <td>[red, cheese, wax, 1, pound]</td>\n",
              "      <td>0.255635</td>\n",
              "    </tr>\n",
              "    <tr>\n",
              "      <th>4966</th>\n",
              "      <td>B007RGGDQK</td>\n",
              "      <td>[indomie, variety, pack, 1, case, 30, bag]</td>\n",
              "      <td>0.247922</td>\n",
              "    </tr>\n",
              "    <tr>\n",
              "      <th>5911</th>\n",
              "      <td>B004OV3VG6</td>\n",
              "      <td>[kernel, season, kettle, corn, popcorn, season...</td>\n",
              "      <td>0.233157</td>\n",
              "    </tr>\n",
              "  </tbody>\n",
              "</table>\n",
              "</div>\n",
              "      <button class=\"colab-df-convert\" onclick=\"convertToInteractive('df-a732cacc-2ff6-427d-bbaf-749d6e965ab6')\"\n",
              "              title=\"Convert this dataframe to an interactive table.\"\n",
              "              style=\"display:none;\">\n",
              "        \n",
              "  <svg xmlns=\"http://www.w3.org/2000/svg\" height=\"24px\"viewBox=\"0 0 24 24\"\n",
              "       width=\"24px\">\n",
              "    <path d=\"M0 0h24v24H0V0z\" fill=\"none\"/>\n",
              "    <path d=\"M18.56 5.44l.94 2.06.94-2.06 2.06-.94-2.06-.94-.94-2.06-.94 2.06-2.06.94zm-11 1L8.5 8.5l.94-2.06 2.06-.94-2.06-.94L8.5 2.5l-.94 2.06-2.06.94zm10 10l.94 2.06.94-2.06 2.06-.94-2.06-.94-.94-2.06-.94 2.06-2.06.94z\"/><path d=\"M17.41 7.96l-1.37-1.37c-.4-.4-.92-.59-1.43-.59-.52 0-1.04.2-1.43.59L10.3 9.45l-7.72 7.72c-.78.78-.78 2.05 0 2.83L4 21.41c.39.39.9.59 1.41.59.51 0 1.02-.2 1.41-.59l7.78-7.78 2.81-2.81c.8-.78.8-2.07 0-2.86zM5.41 20L4 18.59l7.72-7.72 1.47 1.35L5.41 20z\"/>\n",
              "  </svg>\n",
              "      </button>\n",
              "      \n",
              "  <style>\n",
              "    .colab-df-container {\n",
              "      display:flex;\n",
              "      flex-wrap:wrap;\n",
              "      gap: 12px;\n",
              "    }\n",
              "\n",
              "    .colab-df-convert {\n",
              "      background-color: #E8F0FE;\n",
              "      border: none;\n",
              "      border-radius: 50%;\n",
              "      cursor: pointer;\n",
              "      display: none;\n",
              "      fill: #1967D2;\n",
              "      height: 32px;\n",
              "      padding: 0 0 0 0;\n",
              "      width: 32px;\n",
              "    }\n",
              "\n",
              "    .colab-df-convert:hover {\n",
              "      background-color: #E2EBFA;\n",
              "      box-shadow: 0px 1px 2px rgba(60, 64, 67, 0.3), 0px 1px 3px 1px rgba(60, 64, 67, 0.15);\n",
              "      fill: #174EA6;\n",
              "    }\n",
              "\n",
              "    [theme=dark] .colab-df-convert {\n",
              "      background-color: #3B4455;\n",
              "      fill: #D2E3FC;\n",
              "    }\n",
              "\n",
              "    [theme=dark] .colab-df-convert:hover {\n",
              "      background-color: #434B5C;\n",
              "      box-shadow: 0px 1px 3px 1px rgba(0, 0, 0, 0.15);\n",
              "      filter: drop-shadow(0px 1px 2px rgba(0, 0, 0, 0.3));\n",
              "      fill: #FFFFFF;\n",
              "    }\n",
              "  </style>\n",
              "\n",
              "      <script>\n",
              "        const buttonEl =\n",
              "          document.querySelector('#df-a732cacc-2ff6-427d-bbaf-749d6e965ab6 button.colab-df-convert');\n",
              "        buttonEl.style.display =\n",
              "          google.colab.kernel.accessAllowed ? 'block' : 'none';\n",
              "\n",
              "        async function convertToInteractive(key) {\n",
              "          const element = document.querySelector('#df-a732cacc-2ff6-427d-bbaf-749d6e965ab6');\n",
              "          const dataTable =\n",
              "            await google.colab.kernel.invokeFunction('convertToInteractive',\n",
              "                                                     [key], {});\n",
              "          if (!dataTable) return;\n",
              "\n",
              "          const docLinkHtml = 'Like what you see? Visit the ' +\n",
              "            '<a target=\"_blank\" href=https://colab.research.google.com/notebooks/data_table.ipynb>data table notebook</a>'\n",
              "            + ' to learn more about interactive tables.';\n",
              "          element.innerHTML = '';\n",
              "          dataTable['output_type'] = 'display_data';\n",
              "          await google.colab.output.renderOutput(dataTable, element);\n",
              "          const docLink = document.createElement('div');\n",
              "          docLink.innerHTML = docLinkHtml;\n",
              "          element.appendChild(docLink);\n",
              "        }\n",
              "      </script>\n",
              "    </div>\n",
              "  </div>\n",
              "  "
            ]
          },
          "metadata": {},
          "execution_count": 80
        }
      ],
      "source": [
        "recommend_items(23649464,df,tfidf_matrix)"
      ]
    }
  ],
  "metadata": {
    "colab": {
      "provenance": []
    },
    "kernelspec": {
      "display_name": "Python 3",
      "name": "python3"
    },
    "language_info": {
      "name": "python"
    }
  },
  "nbformat": 4,
  "nbformat_minor": 0
}